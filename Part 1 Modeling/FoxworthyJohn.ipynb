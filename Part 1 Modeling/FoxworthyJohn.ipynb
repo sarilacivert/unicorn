{
  "nbformat": 4,
  "nbformat_minor": 0,
  "metadata": {
    "colab": {
      "provenance": [],
      "collapsed_sections": []
    },
    "kernelspec": {
      "name": "python3",
      "display_name": "Python 3"
    },
    "language_info": {
      "name": "python"
    }
  },
  "cells": [
    {
      "cell_type": "markdown",
      "source": [
        "# **John Foxworthy Case Study, October 2022**\n",
        "\n",
        "## 1. Importing the Dataset\n",
        "\n",
        "## 2. Data Preparation, Cleaning, and Exploratory Data Analysis\n",
        "\n",
        "## 3. Variable Assignment for the XGBoost Model \n",
        "\n",
        "## 4. XGBoost Feature Importance of the 19 provided factors\n",
        "\n",
        "## 5. The Five Selected Factors \n",
        "\n",
        "## 6. Running the XGBoost Model \n",
        "\n",
        "## 7. Validating the Results of the XGBoost Model"
      ],
      "metadata": {
        "id": "r1w3Jh269IAZ"
      }
    },
    {
      "cell_type": "code",
      "source": [
        "# Required imports\n",
        "import numpy as np\n",
        "import pandas as pd\n",
        "\n",
        "# Data Visualization \n",
        "from matplotlib import pyplot as plt\n",
        "import seaborn as sns"
      ],
      "metadata": {
        "id": "YUdTqRTi9Kgs"
      },
      "execution_count": 82,
      "outputs": []
    },
    {
      "cell_type": "markdown",
      "source": [
        "# **1.  Importing the Dataset**"
      ],
      "metadata": {
        "id": "SAh6G_D89N5M"
      }
    },
    {
      "cell_type": "code",
      "source": [
        "data = pd.read_csv('/content/sample_data/Test_Model_Data.csv', engine='python')\n",
        "\n",
        "df = pd.DataFrame(data)\n",
        "\n",
        "list(df.columns.values)"
      ],
      "metadata": {
        "colab": {
          "base_uri": "https://localhost:8080/"
        },
        "id": "qYmUWRsv9QVf",
        "outputId": "35880c90-8bc8-44dd-bdca-d203059f75b4"
      },
      "execution_count": 3,
      "outputs": [
        {
          "output_type": "execute_result",
          "data": {
            "text/plain": [
              "['Company ID',\n",
              " 'Valuation ($m)',\n",
              " '(Crunchbase) Monthly Visits to Company Home Page (m)',\n",
              " '(Tracxn) Number of New Articles since Last Year',\n",
              " '(Crunchbase) Number of Acquisitions',\n",
              " '(Crunchbase) Number of Patents Granted',\n",
              " '(Crunchbase) Competitor Max Total Funding Amount ($m)',\n",
              " '(App Annie) Average Change in Downloads (k)',\n",
              " '(Crunchbase) Growth in Page Views:Visit Ratio',\n",
              " '(Crunchbase) Competitor Average Funding Amount ($m)',\n",
              " '(Tracxn) Change in Twitter Followers over 6 Months (k)',\n",
              " '(Glassdoor) CEO Rating',\n",
              " '(Crunchbase) Website Monthly Rank Change (#)',\n",
              " '(Tracxn) Number of Twitter Followers (k)',\n",
              " '(Crunchbase) 90 Days Trend Score',\n",
              " '(Crunchbase) Number of Founders',\n",
              " '(Tracxn) Score',\n",
              " '(Twitter) Maximum Number of Followers of Competitor (k)',\n",
              " '(LinkedIn) 2 Years Headcount Growth (%)',\n",
              " '(Crunchbase) Total Products Active',\n",
              " '(Crunchbase) Minimum Number of Articles about Competitors']"
            ]
          },
          "metadata": {},
          "execution_count": 3
        }
      ]
    },
    {
      "cell_type": "code",
      "source": [
        "df.shape"
      ],
      "metadata": {
        "colab": {
          "base_uri": "https://localhost:8080/"
        },
        "id": "b9whO7Rw9q6A",
        "outputId": "57239504-1881-4bd4-8188-3de4a29dc60e"
      },
      "execution_count": 4,
      "outputs": [
        {
          "output_type": "execute_result",
          "data": {
            "text/plain": [
              "(1297, 21)"
            ]
          },
          "metadata": {},
          "execution_count": 4
        }
      ]
    },
    {
      "cell_type": "markdown",
      "source": [
        "#### **There are 21 columns and 1,297 rows.**"
      ],
      "metadata": {
        "id": "DRfK0aQVa2yO"
      }
    },
    {
      "cell_type": "code",
      "source": [
        "df.info()"
      ],
      "metadata": {
        "colab": {
          "base_uri": "https://localhost:8080/"
        },
        "id": "B-D63QLR-H9o",
        "outputId": "11653a8f-9d0d-4f5d-bef2-a0812d2befb8"
      },
      "execution_count": 5,
      "outputs": [
        {
          "output_type": "stream",
          "name": "stdout",
          "text": [
            "<class 'pandas.core.frame.DataFrame'>\n",
            "RangeIndex: 1297 entries, 0 to 1296\n",
            "Data columns (total 21 columns):\n",
            " #   Column                                                     Non-Null Count  Dtype  \n",
            "---  ------                                                     --------------  -----  \n",
            " 0   Company ID                                                 1297 non-null   int64  \n",
            " 1   Valuation ($m)                                             1297 non-null   object \n",
            " 2   (Crunchbase) Monthly Visits to Company Home Page (m)       1297 non-null   object \n",
            " 3   (Tracxn) Number of New Articles since Last Year            1297 non-null   object \n",
            " 4   (Crunchbase) Number of Acquisitions                        1297 non-null   int64  \n",
            " 5   (Crunchbase) Number of Patents Granted                     1297 non-null   object \n",
            " 6   (Crunchbase) Competitor Max Total Funding Amount ($m)      1297 non-null   object \n",
            " 7   (App Annie) Average Change in Downloads (k)                1297 non-null   object \n",
            " 8   (Crunchbase) Growth in Page Views:Visit Ratio              1297 non-null   object \n",
            " 9   (Crunchbase) Competitor Average Funding Amount ($m)        1297 non-null   object \n",
            " 10  (Tracxn) Change in Twitter Followers over 6 Months (k)     1297 non-null   float64\n",
            " 11  (Glassdoor) CEO Rating                                     1297 non-null   object \n",
            " 12  (Crunchbase) Website Monthly Rank Change (#)               1297 non-null   object \n",
            " 13  (Tracxn) Number of Twitter Followers (k)                   1297 non-null   object \n",
            " 14  (Crunchbase) 90 Days Trend Score                           1297 non-null   float64\n",
            " 15  (Crunchbase) Number of Founders                            1297 non-null   int64  \n",
            " 16  (Tracxn) Score                                             1297 non-null   float64\n",
            " 17  (Twitter) Maximum Number of Followers of Competitor (k)    1297 non-null   object \n",
            " 18  (LinkedIn) 2 Years Headcount Growth (%)                    1297 non-null   object \n",
            " 19  (Crunchbase) Total Products Active                         1297 non-null   int64  \n",
            " 20  (Crunchbase) Minimum Number of Articles about Competitors  1297 non-null   int64  \n",
            "dtypes: float64(3), int64(5), object(13)\n",
            "memory usage: 212.9+ KB\n"
          ]
        }
      ]
    },
    {
      "cell_type": "markdown",
      "source": [
        "# **2.  Data Preparation, Cleaning, and Exploratory Data Analysis**"
      ],
      "metadata": {
        "id": "SbRapC5kbEAP"
      }
    },
    {
      "cell_type": "code",
      "source": [
        "df['Valuation ($m)'].value_counts()"
      ],
      "metadata": {
        "colab": {
          "base_uri": "https://localhost:8080/"
        },
        "id": "J5nluIjA-MtU",
        "outputId": "1081c6e3-9719-47ca-bec3-c50cd16ac1dc"
      },
      "execution_count": 6,
      "outputs": [
        {
          "output_type": "execute_result",
          "data": {
            "text/plain": [
              "n.a.      569\n",
              "0          66\n",
              "1          37\n",
              "1,000      31\n",
              "4          27\n",
              "         ... \n",
              "10,796      1\n",
              "10,288      1\n",
              "8,815       1\n",
              "8,200       1\n",
              "1,232       1\n",
              "Name: Valuation ($m), Length: 306, dtype: int64"
            ]
          },
          "metadata": {},
          "execution_count": 6
        }
      ]
    },
    {
      "cell_type": "code",
      "source": [
        "df = df.replace(['n.a.'],500)"
      ],
      "metadata": {
        "id": "uCVxAe1g-PuJ"
      },
      "execution_count": 7,
      "outputs": []
    },
    {
      "cell_type": "markdown",
      "source": [
        "#### **The \"n.a.\" character string has been replaced by the 500 numerical value as the median number from 0 to 1,000.**\n",
        "\n",
        "#### **But we have more characters string types below.**"
      ],
      "metadata": {
        "id": "0fFf2MV1d_2B"
      }
    },
    {
      "cell_type": "code",
      "source": [
        "df"
      ],
      "metadata": {
        "colab": {
          "base_uri": "https://localhost:8080/",
          "height": 592
        },
        "id": "DZVyEh---TdY",
        "outputId": "68448338-2031-4c31-cf64-91b0a3d5238a"
      },
      "execution_count": 8,
      "outputs": [
        {
          "output_type": "execute_result",
          "data": {
            "text/plain": [
              "      Company ID Valuation ($m)  \\\n",
              "0              1            500   \n",
              "1              2            164   \n",
              "2              3            202   \n",
              "3              4            500   \n",
              "4              5             30   \n",
              "...          ...            ...   \n",
              "1292        1293          1,290   \n",
              "1293        1294          1,143   \n",
              "1294        1295          1,010   \n",
              "1295        1296          3,500   \n",
              "1296        1297          1,232   \n",
              "\n",
              "     (Crunchbase) Monthly Visits to Company Home Page (m)  \\\n",
              "0                                                     2     \n",
              "1                                                     5     \n",
              "2                                                     0     \n",
              "3                                                     3     \n",
              "4                                                    10     \n",
              "...                                                 ...     \n",
              "1292                                                  0     \n",
              "1293                                                  0     \n",
              "1294                                                  0     \n",
              "1295                                                  0     \n",
              "1296                                                  0     \n",
              "\n",
              "     (Tracxn) Number of New Articles since Last Year  \\\n",
              "0                                                 46   \n",
              "1                                                  0   \n",
              "2                                                 55   \n",
              "3                                                 35   \n",
              "4                                                  1   \n",
              "...                                              ...   \n",
              "1292                                               0   \n",
              "1293                                               2   \n",
              "1294                                               0   \n",
              "1295                                               0   \n",
              "1296                                               0   \n",
              "\n",
              "      (Crunchbase) Number of Acquisitions  \\\n",
              "0                                       1   \n",
              "1                                       1   \n",
              "2                                       1   \n",
              "3                                       1   \n",
              "4                                       1   \n",
              "...                                   ...   \n",
              "1292                                    1   \n",
              "1293                                    1   \n",
              "1294                                    1   \n",
              "1295                                    1   \n",
              "1296                                    1   \n",
              "\n",
              "     (Crunchbase) Number of Patents Granted  \\\n",
              "0                                         0   \n",
              "1                                         0   \n",
              "2                                         0   \n",
              "3                                        25   \n",
              "4                                         0   \n",
              "...                                     ...   \n",
              "1292                                   -      \n",
              "1293                                      0   \n",
              "1294                                     15   \n",
              "1295                                   -      \n",
              "1296                                      0   \n",
              "\n",
              "     (Crunchbase) Competitor Max Total Funding Amount ($m)  \\\n",
              "0                                                     0      \n",
              "1                                                    82      \n",
              "2                                                    98      \n",
              "3                                                     0      \n",
              "4                                                    13      \n",
              "...                                                 ...      \n",
              "1292                                                328      \n",
              "1293                                                 65      \n",
              "1294                                                 19      \n",
              "1295                                                 68      \n",
              "1296                                                 68      \n",
              "\n",
              "     (App Annie) Average Change in Downloads (k)  \\\n",
              "0                                              0   \n",
              "1                                              0   \n",
              "2                                              0   \n",
              "3                                              0   \n",
              "4                                              0   \n",
              "...                                          ...   \n",
              "1292                                           -   \n",
              "1293                                           0   \n",
              "1294                                           -   \n",
              "1295                                           -   \n",
              "1296                                           0   \n",
              "\n",
              "     (Crunchbase) Growth in Page Views:Visit Ratio  \\\n",
              "0                                               0%   \n",
              "1                                               0%   \n",
              "2                                              -9%   \n",
              "3                                               0%   \n",
              "4                                               0%   \n",
              "...                                            ...   \n",
              "1292                                            0%   \n",
              "1293                                          -70%   \n",
              "1294                                           15%   \n",
              "1295                                            0%   \n",
              "1296                                            0%   \n",
              "\n",
              "     (Crunchbase) Competitor Average Funding Amount ($m)  ...  \\\n",
              "0                                                    20   ...   \n",
              "1                                                    62   ...   \n",
              "2                                                    19   ...   \n",
              "3                                                    18   ...   \n",
              "4                                                    59   ...   \n",
              "...                                                 ...   ...   \n",
              "1292                                                 94   ...   \n",
              "1293                                                 35   ...   \n",
              "1294                                                  9   ...   \n",
              "1295                                                 18   ...   \n",
              "1296                                                 18   ...   \n",
              "\n",
              "      (Glassdoor) CEO Rating (Crunchbase) Website Monthly Rank Change (#)  \\\n",
              "0                        100                                            0   \n",
              "1                         97                                            0   \n",
              "2                         82                                       -17525   \n",
              "3                78.80571602                                            0   \n",
              "4                         82                                            0   \n",
              "...                      ...                                          ...   \n",
              "1292                      79                                            0   \n",
              "1293             78.80571602                                   -1,165,812   \n",
              "1294                      79                                    5,037,661   \n",
              "1295                      79                                            0   \n",
              "1296             78.80571602                                            0   \n",
              "\n",
              "     (Tracxn) Number of Twitter Followers (k)  \\\n",
              "0                                          10   \n",
              "1                                           0   \n",
              "2                                           0   \n",
              "3                                           0   \n",
              "4                                           0   \n",
              "...                                       ...   \n",
              "1292                                        0   \n",
              "1293                                        0   \n",
              "1294                                        0   \n",
              "1295                                        0   \n",
              "1296                                        0   \n",
              "\n",
              "     (Crunchbase) 90 Days Trend Score  (Crunchbase) Number of Founders  \\\n",
              "0                                 0.8                                1   \n",
              "1                                 5.0                                1   \n",
              "2                                -3.5                                4   \n",
              "3                                -0.3                                1   \n",
              "4                                 4.7                                2   \n",
              "...                               ...                              ...   \n",
              "1292                              2.5                                3   \n",
              "1293                             -0.7                                2   \n",
              "1294                              8.6                                2   \n",
              "1295                              3.4                                1   \n",
              "1296                              3.4                                1   \n",
              "\n",
              "      (Tracxn) Score  (Twitter) Maximum Number of Followers of Competitor (k)  \\\n",
              "0          49.541606                                                  6         \n",
              "1           9.200210                                                 57         \n",
              "2          70.377833                                                 13         \n",
              "3          43.568763                                                  1         \n",
              "4          64.715801                                               2400         \n",
              "...              ...                                                ...         \n",
              "1292        9.000000                                                  2         \n",
              "1293       50.151790                                                  0         \n",
              "1294        9.000000                                                 26         \n",
              "1295        9.000000                                                116         \n",
              "1296        9.200210                                                116         \n",
              "\n",
              "     (LinkedIn) 2 Years Headcount Growth (%)  \\\n",
              "0                                         0%   \n",
              "1                                         0%   \n",
              "2                                         0%   \n",
              "3                                         0%   \n",
              "4                                         0%   \n",
              "...                                      ...   \n",
              "1292                                      0%   \n",
              "1293                                      0%   \n",
              "1294                                     38%   \n",
              "1295                                      0%   \n",
              "1296                                      0%   \n",
              "\n",
              "     (Crunchbase) Total Products Active  \\\n",
              "0                                    40   \n",
              "1                                    39   \n",
              "2                                    28   \n",
              "3                                    47   \n",
              "4                                   136   \n",
              "...                                 ...   \n",
              "1292                                  9   \n",
              "1293                                  8   \n",
              "1294                                 33   \n",
              "1295                                 23   \n",
              "1296                                 23   \n",
              "\n",
              "      (Crunchbase) Minimum Number of Articles about Competitors  \n",
              "0                                                     1          \n",
              "1                                                     1          \n",
              "2                                                     1          \n",
              "3                                                     1          \n",
              "4                                                     3          \n",
              "...                                                 ...          \n",
              "1292                                                  1          \n",
              "1293                                                  1          \n",
              "1294                                                  2          \n",
              "1295                                                  1          \n",
              "1296                                                  1          \n",
              "\n",
              "[1297 rows x 21 columns]"
            ],
            "text/html": [
              "\n",
              "  <div id=\"df-784fe7e1-a8d0-4639-a7aa-76a1c756238d\">\n",
              "    <div class=\"colab-df-container\">\n",
              "      <div>\n",
              "<style scoped>\n",
              "    .dataframe tbody tr th:only-of-type {\n",
              "        vertical-align: middle;\n",
              "    }\n",
              "\n",
              "    .dataframe tbody tr th {\n",
              "        vertical-align: top;\n",
              "    }\n",
              "\n",
              "    .dataframe thead th {\n",
              "        text-align: right;\n",
              "    }\n",
              "</style>\n",
              "<table border=\"1\" class=\"dataframe\">\n",
              "  <thead>\n",
              "    <tr style=\"text-align: right;\">\n",
              "      <th></th>\n",
              "      <th>Company ID</th>\n",
              "      <th>Valuation ($m)</th>\n",
              "      <th>(Crunchbase) Monthly Visits to Company Home Page (m)</th>\n",
              "      <th>(Tracxn) Number of New Articles since Last Year</th>\n",
              "      <th>(Crunchbase) Number of Acquisitions</th>\n",
              "      <th>(Crunchbase) Number of Patents Granted</th>\n",
              "      <th>(Crunchbase) Competitor Max Total Funding Amount ($m)</th>\n",
              "      <th>(App Annie) Average Change in Downloads (k)</th>\n",
              "      <th>(Crunchbase) Growth in Page Views:Visit Ratio</th>\n",
              "      <th>(Crunchbase) Competitor Average Funding Amount ($m)</th>\n",
              "      <th>...</th>\n",
              "      <th>(Glassdoor) CEO Rating</th>\n",
              "      <th>(Crunchbase) Website Monthly Rank Change (#)</th>\n",
              "      <th>(Tracxn) Number of Twitter Followers (k)</th>\n",
              "      <th>(Crunchbase) 90 Days Trend Score</th>\n",
              "      <th>(Crunchbase) Number of Founders</th>\n",
              "      <th>(Tracxn) Score</th>\n",
              "      <th>(Twitter) Maximum Number of Followers of Competitor (k)</th>\n",
              "      <th>(LinkedIn) 2 Years Headcount Growth (%)</th>\n",
              "      <th>(Crunchbase) Total Products Active</th>\n",
              "      <th>(Crunchbase) Minimum Number of Articles about Competitors</th>\n",
              "    </tr>\n",
              "  </thead>\n",
              "  <tbody>\n",
              "    <tr>\n",
              "      <th>0</th>\n",
              "      <td>1</td>\n",
              "      <td>500</td>\n",
              "      <td>2</td>\n",
              "      <td>46</td>\n",
              "      <td>1</td>\n",
              "      <td>0</td>\n",
              "      <td>0</td>\n",
              "      <td>0</td>\n",
              "      <td>0%</td>\n",
              "      <td>20</td>\n",
              "      <td>...</td>\n",
              "      <td>100</td>\n",
              "      <td>0</td>\n",
              "      <td>10</td>\n",
              "      <td>0.8</td>\n",
              "      <td>1</td>\n",
              "      <td>49.541606</td>\n",
              "      <td>6</td>\n",
              "      <td>0%</td>\n",
              "      <td>40</td>\n",
              "      <td>1</td>\n",
              "    </tr>\n",
              "    <tr>\n",
              "      <th>1</th>\n",
              "      <td>2</td>\n",
              "      <td>164</td>\n",
              "      <td>5</td>\n",
              "      <td>0</td>\n",
              "      <td>1</td>\n",
              "      <td>0</td>\n",
              "      <td>82</td>\n",
              "      <td>0</td>\n",
              "      <td>0%</td>\n",
              "      <td>62</td>\n",
              "      <td>...</td>\n",
              "      <td>97</td>\n",
              "      <td>0</td>\n",
              "      <td>0</td>\n",
              "      <td>5.0</td>\n",
              "      <td>1</td>\n",
              "      <td>9.200210</td>\n",
              "      <td>57</td>\n",
              "      <td>0%</td>\n",
              "      <td>39</td>\n",
              "      <td>1</td>\n",
              "    </tr>\n",
              "    <tr>\n",
              "      <th>2</th>\n",
              "      <td>3</td>\n",
              "      <td>202</td>\n",
              "      <td>0</td>\n",
              "      <td>55</td>\n",
              "      <td>1</td>\n",
              "      <td>0</td>\n",
              "      <td>98</td>\n",
              "      <td>0</td>\n",
              "      <td>-9%</td>\n",
              "      <td>19</td>\n",
              "      <td>...</td>\n",
              "      <td>82</td>\n",
              "      <td>-17525</td>\n",
              "      <td>0</td>\n",
              "      <td>-3.5</td>\n",
              "      <td>4</td>\n",
              "      <td>70.377833</td>\n",
              "      <td>13</td>\n",
              "      <td>0%</td>\n",
              "      <td>28</td>\n",
              "      <td>1</td>\n",
              "    </tr>\n",
              "    <tr>\n",
              "      <th>3</th>\n",
              "      <td>4</td>\n",
              "      <td>500</td>\n",
              "      <td>3</td>\n",
              "      <td>35</td>\n",
              "      <td>1</td>\n",
              "      <td>25</td>\n",
              "      <td>0</td>\n",
              "      <td>0</td>\n",
              "      <td>0%</td>\n",
              "      <td>18</td>\n",
              "      <td>...</td>\n",
              "      <td>78.80571602</td>\n",
              "      <td>0</td>\n",
              "      <td>0</td>\n",
              "      <td>-0.3</td>\n",
              "      <td>1</td>\n",
              "      <td>43.568763</td>\n",
              "      <td>1</td>\n",
              "      <td>0%</td>\n",
              "      <td>47</td>\n",
              "      <td>1</td>\n",
              "    </tr>\n",
              "    <tr>\n",
              "      <th>4</th>\n",
              "      <td>5</td>\n",
              "      <td>30</td>\n",
              "      <td>10</td>\n",
              "      <td>1</td>\n",
              "      <td>1</td>\n",
              "      <td>0</td>\n",
              "      <td>13</td>\n",
              "      <td>0</td>\n",
              "      <td>0%</td>\n",
              "      <td>59</td>\n",
              "      <td>...</td>\n",
              "      <td>82</td>\n",
              "      <td>0</td>\n",
              "      <td>0</td>\n",
              "      <td>4.7</td>\n",
              "      <td>2</td>\n",
              "      <td>64.715801</td>\n",
              "      <td>2400</td>\n",
              "      <td>0%</td>\n",
              "      <td>136</td>\n",
              "      <td>3</td>\n",
              "    </tr>\n",
              "    <tr>\n",
              "      <th>...</th>\n",
              "      <td>...</td>\n",
              "      <td>...</td>\n",
              "      <td>...</td>\n",
              "      <td>...</td>\n",
              "      <td>...</td>\n",
              "      <td>...</td>\n",
              "      <td>...</td>\n",
              "      <td>...</td>\n",
              "      <td>...</td>\n",
              "      <td>...</td>\n",
              "      <td>...</td>\n",
              "      <td>...</td>\n",
              "      <td>...</td>\n",
              "      <td>...</td>\n",
              "      <td>...</td>\n",
              "      <td>...</td>\n",
              "      <td>...</td>\n",
              "      <td>...</td>\n",
              "      <td>...</td>\n",
              "      <td>...</td>\n",
              "      <td>...</td>\n",
              "    </tr>\n",
              "    <tr>\n",
              "      <th>1292</th>\n",
              "      <td>1293</td>\n",
              "      <td>1,290</td>\n",
              "      <td>0</td>\n",
              "      <td>0</td>\n",
              "      <td>1</td>\n",
              "      <td>-</td>\n",
              "      <td>328</td>\n",
              "      <td>-</td>\n",
              "      <td>0%</td>\n",
              "      <td>94</td>\n",
              "      <td>...</td>\n",
              "      <td>79</td>\n",
              "      <td>0</td>\n",
              "      <td>0</td>\n",
              "      <td>2.5</td>\n",
              "      <td>3</td>\n",
              "      <td>9.000000</td>\n",
              "      <td>2</td>\n",
              "      <td>0%</td>\n",
              "      <td>9</td>\n",
              "      <td>1</td>\n",
              "    </tr>\n",
              "    <tr>\n",
              "      <th>1293</th>\n",
              "      <td>1294</td>\n",
              "      <td>1,143</td>\n",
              "      <td>0</td>\n",
              "      <td>2</td>\n",
              "      <td>1</td>\n",
              "      <td>0</td>\n",
              "      <td>65</td>\n",
              "      <td>0</td>\n",
              "      <td>-70%</td>\n",
              "      <td>35</td>\n",
              "      <td>...</td>\n",
              "      <td>78.80571602</td>\n",
              "      <td>-1,165,812</td>\n",
              "      <td>0</td>\n",
              "      <td>-0.7</td>\n",
              "      <td>2</td>\n",
              "      <td>50.151790</td>\n",
              "      <td>0</td>\n",
              "      <td>0%</td>\n",
              "      <td>8</td>\n",
              "      <td>1</td>\n",
              "    </tr>\n",
              "    <tr>\n",
              "      <th>1294</th>\n",
              "      <td>1295</td>\n",
              "      <td>1,010</td>\n",
              "      <td>0</td>\n",
              "      <td>0</td>\n",
              "      <td>1</td>\n",
              "      <td>15</td>\n",
              "      <td>19</td>\n",
              "      <td>-</td>\n",
              "      <td>15%</td>\n",
              "      <td>9</td>\n",
              "      <td>...</td>\n",
              "      <td>79</td>\n",
              "      <td>5,037,661</td>\n",
              "      <td>0</td>\n",
              "      <td>8.6</td>\n",
              "      <td>2</td>\n",
              "      <td>9.000000</td>\n",
              "      <td>26</td>\n",
              "      <td>38%</td>\n",
              "      <td>33</td>\n",
              "      <td>2</td>\n",
              "    </tr>\n",
              "    <tr>\n",
              "      <th>1295</th>\n",
              "      <td>1296</td>\n",
              "      <td>3,500</td>\n",
              "      <td>0</td>\n",
              "      <td>0</td>\n",
              "      <td>1</td>\n",
              "      <td>-</td>\n",
              "      <td>68</td>\n",
              "      <td>-</td>\n",
              "      <td>0%</td>\n",
              "      <td>18</td>\n",
              "      <td>...</td>\n",
              "      <td>79</td>\n",
              "      <td>0</td>\n",
              "      <td>0</td>\n",
              "      <td>3.4</td>\n",
              "      <td>1</td>\n",
              "      <td>9.000000</td>\n",
              "      <td>116</td>\n",
              "      <td>0%</td>\n",
              "      <td>23</td>\n",
              "      <td>1</td>\n",
              "    </tr>\n",
              "    <tr>\n",
              "      <th>1296</th>\n",
              "      <td>1297</td>\n",
              "      <td>1,232</td>\n",
              "      <td>0</td>\n",
              "      <td>0</td>\n",
              "      <td>1</td>\n",
              "      <td>0</td>\n",
              "      <td>68</td>\n",
              "      <td>0</td>\n",
              "      <td>0%</td>\n",
              "      <td>18</td>\n",
              "      <td>...</td>\n",
              "      <td>78.80571602</td>\n",
              "      <td>0</td>\n",
              "      <td>0</td>\n",
              "      <td>3.4</td>\n",
              "      <td>1</td>\n",
              "      <td>9.200210</td>\n",
              "      <td>116</td>\n",
              "      <td>0%</td>\n",
              "      <td>23</td>\n",
              "      <td>1</td>\n",
              "    </tr>\n",
              "  </tbody>\n",
              "</table>\n",
              "<p>1297 rows × 21 columns</p>\n",
              "</div>\n",
              "      <button class=\"colab-df-convert\" onclick=\"convertToInteractive('df-784fe7e1-a8d0-4639-a7aa-76a1c756238d')\"\n",
              "              title=\"Convert this dataframe to an interactive table.\"\n",
              "              style=\"display:none;\">\n",
              "        \n",
              "  <svg xmlns=\"http://www.w3.org/2000/svg\" height=\"24px\"viewBox=\"0 0 24 24\"\n",
              "       width=\"24px\">\n",
              "    <path d=\"M0 0h24v24H0V0z\" fill=\"none\"/>\n",
              "    <path d=\"M18.56 5.44l.94 2.06.94-2.06 2.06-.94-2.06-.94-.94-2.06-.94 2.06-2.06.94zm-11 1L8.5 8.5l.94-2.06 2.06-.94-2.06-.94L8.5 2.5l-.94 2.06-2.06.94zm10 10l.94 2.06.94-2.06 2.06-.94-2.06-.94-.94-2.06-.94 2.06-2.06.94z\"/><path d=\"M17.41 7.96l-1.37-1.37c-.4-.4-.92-.59-1.43-.59-.52 0-1.04.2-1.43.59L10.3 9.45l-7.72 7.72c-.78.78-.78 2.05 0 2.83L4 21.41c.39.39.9.59 1.41.59.51 0 1.02-.2 1.41-.59l7.78-7.78 2.81-2.81c.8-.78.8-2.07 0-2.86zM5.41 20L4 18.59l7.72-7.72 1.47 1.35L5.41 20z\"/>\n",
              "  </svg>\n",
              "      </button>\n",
              "      \n",
              "  <style>\n",
              "    .colab-df-container {\n",
              "      display:flex;\n",
              "      flex-wrap:wrap;\n",
              "      gap: 12px;\n",
              "    }\n",
              "\n",
              "    .colab-df-convert {\n",
              "      background-color: #E8F0FE;\n",
              "      border: none;\n",
              "      border-radius: 50%;\n",
              "      cursor: pointer;\n",
              "      display: none;\n",
              "      fill: #1967D2;\n",
              "      height: 32px;\n",
              "      padding: 0 0 0 0;\n",
              "      width: 32px;\n",
              "    }\n",
              "\n",
              "    .colab-df-convert:hover {\n",
              "      background-color: #E2EBFA;\n",
              "      box-shadow: 0px 1px 2px rgba(60, 64, 67, 0.3), 0px 1px 3px 1px rgba(60, 64, 67, 0.15);\n",
              "      fill: #174EA6;\n",
              "    }\n",
              "\n",
              "    [theme=dark] .colab-df-convert {\n",
              "      background-color: #3B4455;\n",
              "      fill: #D2E3FC;\n",
              "    }\n",
              "\n",
              "    [theme=dark] .colab-df-convert:hover {\n",
              "      background-color: #434B5C;\n",
              "      box-shadow: 0px 1px 3px 1px rgba(0, 0, 0, 0.15);\n",
              "      filter: drop-shadow(0px 1px 2px rgba(0, 0, 0, 0.3));\n",
              "      fill: #FFFFFF;\n",
              "    }\n",
              "  </style>\n",
              "\n",
              "      <script>\n",
              "        const buttonEl =\n",
              "          document.querySelector('#df-784fe7e1-a8d0-4639-a7aa-76a1c756238d button.colab-df-convert');\n",
              "        buttonEl.style.display =\n",
              "          google.colab.kernel.accessAllowed ? 'block' : 'none';\n",
              "\n",
              "        async function convertToInteractive(key) {\n",
              "          const element = document.querySelector('#df-784fe7e1-a8d0-4639-a7aa-76a1c756238d');\n",
              "          const dataTable =\n",
              "            await google.colab.kernel.invokeFunction('convertToInteractive',\n",
              "                                                     [key], {});\n",
              "          if (!dataTable) return;\n",
              "\n",
              "          const docLinkHtml = 'Like what you see? Visit the ' +\n",
              "            '<a target=\"_blank\" href=https://colab.research.google.com/notebooks/data_table.ipynb>data table notebook</a>'\n",
              "            + ' to learn more about interactive tables.';\n",
              "          element.innerHTML = '';\n",
              "          dataTable['output_type'] = 'display_data';\n",
              "          await google.colab.output.renderOutput(dataTable, element);\n",
              "          const docLink = document.createElement('div');\n",
              "          docLink.innerHTML = docLinkHtml;\n",
              "          element.appendChild(docLink);\n",
              "        }\n",
              "      </script>\n",
              "    </div>\n",
              "  </div>\n",
              "  "
            ]
          },
          "metadata": {},
          "execution_count": 8
        }
      ]
    },
    {
      "cell_type": "code",
      "source": [
        "df['Valuation ($m)'].value_counts()"
      ],
      "metadata": {
        "colab": {
          "base_uri": "https://localhost:8080/"
        },
        "id": "f60pNGMM-VUs",
        "outputId": "27de6314-dcaa-4a23-91be-9f3727a505b3"
      },
      "execution_count": 9,
      "outputs": [
        {
          "output_type": "execute_result",
          "data": {
            "text/plain": [
              "500       569\n",
              "0          66\n",
              "1          37\n",
              "1,000      31\n",
              "4          27\n",
              "         ... \n",
              "10,796      1\n",
              "10,288      1\n",
              "8,815       1\n",
              "8,200       1\n",
              "1,232       1\n",
              "Name: Valuation ($m), Length: 306, dtype: int64"
            ]
          },
          "metadata": {},
          "execution_count": 9
        }
      ]
    },
    {
      "cell_type": "markdown",
      "source": [
        "#### **Cleaning below**"
      ],
      "metadata": {
        "id": "NJHraQq50QZN"
      }
    },
    {
      "cell_type": "code",
      "source": [
        "df['Valuation ($m)'].value_counts()[500]"
      ],
      "metadata": {
        "colab": {
          "base_uri": "https://localhost:8080/"
        },
        "id": "V1q9YO9c-YI5",
        "outputId": "02b23b13-050a-4171-b09b-f5fc08f5ab06"
      },
      "execution_count": 10,
      "outputs": [
        {
          "output_type": "execute_result",
          "data": {
            "text/plain": [
              "569"
            ]
          },
          "metadata": {},
          "execution_count": 10
        }
      ]
    },
    {
      "cell_type": "markdown",
      "source": [
        "#### **There 569 replacements of n.a. to the value of 500.**"
      ],
      "metadata": {
        "id": "vUb7ROGS-c2_"
      }
    },
    {
      "cell_type": "code",
      "source": [
        "for col in df.columns:\n",
        "    if isinstance(df[col].dtype, object):\n",
        "        for i in range(len(df)):\n",
        "            if isinstance(df[col].iloc[i],str) and \"%\" in df[col].iloc[i]:\n",
        "                df[col].iloc[i] = float(df[col].iloc[i][:-1]) / 100 \n",
        "            if isinstance(df[col].iloc[i],str) and \",\" in df[col].iloc[i]:\n",
        "                df[col].iloc[i] = float(df[col].iloc[i].replace(',',''))\n",
        "            if isinstance(df[col].iloc[i],str) and \"-\" in df[col].iloc[i]:\n",
        "                df[col].iloc[i] = float(0)"
      ],
      "metadata": {
        "colab": {
          "base_uri": "https://localhost:8080/"
        },
        "id": "CGn1-xHZ-og9",
        "outputId": "5773e601-2314-4db0-b44b-0a6c6dc757d4"
      },
      "execution_count": 11,
      "outputs": [
        {
          "output_type": "stream",
          "name": "stderr",
          "text": [
            "/usr/local/lib/python3.7/dist-packages/pandas/core/indexing.py:1732: SettingWithCopyWarning: \n",
            "A value is trying to be set on a copy of a slice from a DataFrame\n",
            "\n",
            "See the caveats in the documentation: https://pandas.pydata.org/pandas-docs/stable/user_guide/indexing.html#returning-a-view-versus-a-copy\n",
            "  self._setitem_single_block(indexer, value, name)\n"
          ]
        }
      ]
    },
    {
      "cell_type": "code",
      "source": [
        "df"
      ],
      "metadata": {
        "colab": {
          "base_uri": "https://localhost:8080/",
          "height": 592
        },
        "id": "C7raNw4B-rO_",
        "outputId": "e469364f-2d9b-45c9-8b02-49a3d8746fbe"
      },
      "execution_count": 12,
      "outputs": [
        {
          "output_type": "execute_result",
          "data": {
            "text/plain": [
              "      Company ID Valuation ($m)  \\\n",
              "0              1            500   \n",
              "1              2            164   \n",
              "2              3            202   \n",
              "3              4            500   \n",
              "4              5             30   \n",
              "...          ...            ...   \n",
              "1292        1293         1290.0   \n",
              "1293        1294         1143.0   \n",
              "1294        1295         1010.0   \n",
              "1295        1296         3500.0   \n",
              "1296        1297         1232.0   \n",
              "\n",
              "     (Crunchbase) Monthly Visits to Company Home Page (m)  \\\n",
              "0                                                     2     \n",
              "1                                                     5     \n",
              "2                                                     0     \n",
              "3                                                     3     \n",
              "4                                                    10     \n",
              "...                                                 ...     \n",
              "1292                                                  0     \n",
              "1293                                                  0     \n",
              "1294                                                  0     \n",
              "1295                                                  0     \n",
              "1296                                                  0     \n",
              "\n",
              "     (Tracxn) Number of New Articles since Last Year  \\\n",
              "0                                                 46   \n",
              "1                                                  0   \n",
              "2                                                 55   \n",
              "3                                                 35   \n",
              "4                                                  1   \n",
              "...                                              ...   \n",
              "1292                                               0   \n",
              "1293                                               2   \n",
              "1294                                               0   \n",
              "1295                                               0   \n",
              "1296                                               0   \n",
              "\n",
              "      (Crunchbase) Number of Acquisitions  \\\n",
              "0                                       1   \n",
              "1                                       1   \n",
              "2                                       1   \n",
              "3                                       1   \n",
              "4                                       1   \n",
              "...                                   ...   \n",
              "1292                                    1   \n",
              "1293                                    1   \n",
              "1294                                    1   \n",
              "1295                                    1   \n",
              "1296                                    1   \n",
              "\n",
              "     (Crunchbase) Number of Patents Granted  \\\n",
              "0                                         0   \n",
              "1                                         0   \n",
              "2                                         0   \n",
              "3                                        25   \n",
              "4                                         0   \n",
              "...                                     ...   \n",
              "1292                                    0.0   \n",
              "1293                                      0   \n",
              "1294                                     15   \n",
              "1295                                    0.0   \n",
              "1296                                      0   \n",
              "\n",
              "     (Crunchbase) Competitor Max Total Funding Amount ($m)  \\\n",
              "0                                                     0      \n",
              "1                                                    82      \n",
              "2                                                    98      \n",
              "3                                                     0      \n",
              "4                                                    13      \n",
              "...                                                 ...      \n",
              "1292                                                328      \n",
              "1293                                                 65      \n",
              "1294                                                 19      \n",
              "1295                                                 68      \n",
              "1296                                                 68      \n",
              "\n",
              "     (App Annie) Average Change in Downloads (k)  \\\n",
              "0                                              0   \n",
              "1                                              0   \n",
              "2                                              0   \n",
              "3                                              0   \n",
              "4                                              0   \n",
              "...                                          ...   \n",
              "1292                                         0.0   \n",
              "1293                                           0   \n",
              "1294                                         0.0   \n",
              "1295                                         0.0   \n",
              "1296                                           0   \n",
              "\n",
              "     (Crunchbase) Growth in Page Views:Visit Ratio  \\\n",
              "0                                              0.0   \n",
              "1                                              0.0   \n",
              "2                                            -0.09   \n",
              "3                                              0.0   \n",
              "4                                              0.0   \n",
              "...                                            ...   \n",
              "1292                                           0.0   \n",
              "1293                                          -0.7   \n",
              "1294                                          0.15   \n",
              "1295                                           0.0   \n",
              "1296                                           0.0   \n",
              "\n",
              "     (Crunchbase) Competitor Average Funding Amount ($m)  ...  \\\n",
              "0                                                    20   ...   \n",
              "1                                                    62   ...   \n",
              "2                                                    19   ...   \n",
              "3                                                    18   ...   \n",
              "4                                                    59   ...   \n",
              "...                                                 ...   ...   \n",
              "1292                                                 94   ...   \n",
              "1293                                                 35   ...   \n",
              "1294                                                  9   ...   \n",
              "1295                                                 18   ...   \n",
              "1296                                                 18   ...   \n",
              "\n",
              "      (Glassdoor) CEO Rating (Crunchbase) Website Monthly Rank Change (#)  \\\n",
              "0                        100                                            0   \n",
              "1                         97                                            0   \n",
              "2                         82                                          0.0   \n",
              "3                78.80571602                                            0   \n",
              "4                         82                                            0   \n",
              "...                      ...                                          ...   \n",
              "1292                      79                                            0   \n",
              "1293             78.80571602                                   -1165812.0   \n",
              "1294                      79                                    5037661.0   \n",
              "1295                      79                                            0   \n",
              "1296             78.80571602                                            0   \n",
              "\n",
              "     (Tracxn) Number of Twitter Followers (k)  \\\n",
              "0                                          10   \n",
              "1                                           0   \n",
              "2                                           0   \n",
              "3                                           0   \n",
              "4                                           0   \n",
              "...                                       ...   \n",
              "1292                                        0   \n",
              "1293                                        0   \n",
              "1294                                        0   \n",
              "1295                                        0   \n",
              "1296                                        0   \n",
              "\n",
              "     (Crunchbase) 90 Days Trend Score  (Crunchbase) Number of Founders  \\\n",
              "0                                 0.8                                1   \n",
              "1                                 5.0                                1   \n",
              "2                                -3.5                                4   \n",
              "3                                -0.3                                1   \n",
              "4                                 4.7                                2   \n",
              "...                               ...                              ...   \n",
              "1292                              2.5                                3   \n",
              "1293                             -0.7                                2   \n",
              "1294                              8.6                                2   \n",
              "1295                              3.4                                1   \n",
              "1296                              3.4                                1   \n",
              "\n",
              "      (Tracxn) Score  (Twitter) Maximum Number of Followers of Competitor (k)  \\\n",
              "0          49.541606                                                  6         \n",
              "1           9.200210                                                 57         \n",
              "2          70.377833                                                 13         \n",
              "3          43.568763                                                  1         \n",
              "4          64.715801                                               2400         \n",
              "...              ...                                                ...         \n",
              "1292        9.000000                                                  2         \n",
              "1293       50.151790                                                  0         \n",
              "1294        9.000000                                                 26         \n",
              "1295        9.000000                                                116         \n",
              "1296        9.200210                                                116         \n",
              "\n",
              "     (LinkedIn) 2 Years Headcount Growth (%)  \\\n",
              "0                                        0.0   \n",
              "1                                        0.0   \n",
              "2                                        0.0   \n",
              "3                                        0.0   \n",
              "4                                        0.0   \n",
              "...                                      ...   \n",
              "1292                                     0.0   \n",
              "1293                                     0.0   \n",
              "1294                                    0.38   \n",
              "1295                                     0.0   \n",
              "1296                                     0.0   \n",
              "\n",
              "     (Crunchbase) Total Products Active  \\\n",
              "0                                    40   \n",
              "1                                    39   \n",
              "2                                    28   \n",
              "3                                    47   \n",
              "4                                   136   \n",
              "...                                 ...   \n",
              "1292                                  9   \n",
              "1293                                  8   \n",
              "1294                                 33   \n",
              "1295                                 23   \n",
              "1296                                 23   \n",
              "\n",
              "      (Crunchbase) Minimum Number of Articles about Competitors  \n",
              "0                                                     1          \n",
              "1                                                     1          \n",
              "2                                                     1          \n",
              "3                                                     1          \n",
              "4                                                     3          \n",
              "...                                                 ...          \n",
              "1292                                                  1          \n",
              "1293                                                  1          \n",
              "1294                                                  2          \n",
              "1295                                                  1          \n",
              "1296                                                  1          \n",
              "\n",
              "[1297 rows x 21 columns]"
            ],
            "text/html": [
              "\n",
              "  <div id=\"df-5e44b9ee-dd96-419c-819b-e076e2806609\">\n",
              "    <div class=\"colab-df-container\">\n",
              "      <div>\n",
              "<style scoped>\n",
              "    .dataframe tbody tr th:only-of-type {\n",
              "        vertical-align: middle;\n",
              "    }\n",
              "\n",
              "    .dataframe tbody tr th {\n",
              "        vertical-align: top;\n",
              "    }\n",
              "\n",
              "    .dataframe thead th {\n",
              "        text-align: right;\n",
              "    }\n",
              "</style>\n",
              "<table border=\"1\" class=\"dataframe\">\n",
              "  <thead>\n",
              "    <tr style=\"text-align: right;\">\n",
              "      <th></th>\n",
              "      <th>Company ID</th>\n",
              "      <th>Valuation ($m)</th>\n",
              "      <th>(Crunchbase) Monthly Visits to Company Home Page (m)</th>\n",
              "      <th>(Tracxn) Number of New Articles since Last Year</th>\n",
              "      <th>(Crunchbase) Number of Acquisitions</th>\n",
              "      <th>(Crunchbase) Number of Patents Granted</th>\n",
              "      <th>(Crunchbase) Competitor Max Total Funding Amount ($m)</th>\n",
              "      <th>(App Annie) Average Change in Downloads (k)</th>\n",
              "      <th>(Crunchbase) Growth in Page Views:Visit Ratio</th>\n",
              "      <th>(Crunchbase) Competitor Average Funding Amount ($m)</th>\n",
              "      <th>...</th>\n",
              "      <th>(Glassdoor) CEO Rating</th>\n",
              "      <th>(Crunchbase) Website Monthly Rank Change (#)</th>\n",
              "      <th>(Tracxn) Number of Twitter Followers (k)</th>\n",
              "      <th>(Crunchbase) 90 Days Trend Score</th>\n",
              "      <th>(Crunchbase) Number of Founders</th>\n",
              "      <th>(Tracxn) Score</th>\n",
              "      <th>(Twitter) Maximum Number of Followers of Competitor (k)</th>\n",
              "      <th>(LinkedIn) 2 Years Headcount Growth (%)</th>\n",
              "      <th>(Crunchbase) Total Products Active</th>\n",
              "      <th>(Crunchbase) Minimum Number of Articles about Competitors</th>\n",
              "    </tr>\n",
              "  </thead>\n",
              "  <tbody>\n",
              "    <tr>\n",
              "      <th>0</th>\n",
              "      <td>1</td>\n",
              "      <td>500</td>\n",
              "      <td>2</td>\n",
              "      <td>46</td>\n",
              "      <td>1</td>\n",
              "      <td>0</td>\n",
              "      <td>0</td>\n",
              "      <td>0</td>\n",
              "      <td>0.0</td>\n",
              "      <td>20</td>\n",
              "      <td>...</td>\n",
              "      <td>100</td>\n",
              "      <td>0</td>\n",
              "      <td>10</td>\n",
              "      <td>0.8</td>\n",
              "      <td>1</td>\n",
              "      <td>49.541606</td>\n",
              "      <td>6</td>\n",
              "      <td>0.0</td>\n",
              "      <td>40</td>\n",
              "      <td>1</td>\n",
              "    </tr>\n",
              "    <tr>\n",
              "      <th>1</th>\n",
              "      <td>2</td>\n",
              "      <td>164</td>\n",
              "      <td>5</td>\n",
              "      <td>0</td>\n",
              "      <td>1</td>\n",
              "      <td>0</td>\n",
              "      <td>82</td>\n",
              "      <td>0</td>\n",
              "      <td>0.0</td>\n",
              "      <td>62</td>\n",
              "      <td>...</td>\n",
              "      <td>97</td>\n",
              "      <td>0</td>\n",
              "      <td>0</td>\n",
              "      <td>5.0</td>\n",
              "      <td>1</td>\n",
              "      <td>9.200210</td>\n",
              "      <td>57</td>\n",
              "      <td>0.0</td>\n",
              "      <td>39</td>\n",
              "      <td>1</td>\n",
              "    </tr>\n",
              "    <tr>\n",
              "      <th>2</th>\n",
              "      <td>3</td>\n",
              "      <td>202</td>\n",
              "      <td>0</td>\n",
              "      <td>55</td>\n",
              "      <td>1</td>\n",
              "      <td>0</td>\n",
              "      <td>98</td>\n",
              "      <td>0</td>\n",
              "      <td>-0.09</td>\n",
              "      <td>19</td>\n",
              "      <td>...</td>\n",
              "      <td>82</td>\n",
              "      <td>0.0</td>\n",
              "      <td>0</td>\n",
              "      <td>-3.5</td>\n",
              "      <td>4</td>\n",
              "      <td>70.377833</td>\n",
              "      <td>13</td>\n",
              "      <td>0.0</td>\n",
              "      <td>28</td>\n",
              "      <td>1</td>\n",
              "    </tr>\n",
              "    <tr>\n",
              "      <th>3</th>\n",
              "      <td>4</td>\n",
              "      <td>500</td>\n",
              "      <td>3</td>\n",
              "      <td>35</td>\n",
              "      <td>1</td>\n",
              "      <td>25</td>\n",
              "      <td>0</td>\n",
              "      <td>0</td>\n",
              "      <td>0.0</td>\n",
              "      <td>18</td>\n",
              "      <td>...</td>\n",
              "      <td>78.80571602</td>\n",
              "      <td>0</td>\n",
              "      <td>0</td>\n",
              "      <td>-0.3</td>\n",
              "      <td>1</td>\n",
              "      <td>43.568763</td>\n",
              "      <td>1</td>\n",
              "      <td>0.0</td>\n",
              "      <td>47</td>\n",
              "      <td>1</td>\n",
              "    </tr>\n",
              "    <tr>\n",
              "      <th>4</th>\n",
              "      <td>5</td>\n",
              "      <td>30</td>\n",
              "      <td>10</td>\n",
              "      <td>1</td>\n",
              "      <td>1</td>\n",
              "      <td>0</td>\n",
              "      <td>13</td>\n",
              "      <td>0</td>\n",
              "      <td>0.0</td>\n",
              "      <td>59</td>\n",
              "      <td>...</td>\n",
              "      <td>82</td>\n",
              "      <td>0</td>\n",
              "      <td>0</td>\n",
              "      <td>4.7</td>\n",
              "      <td>2</td>\n",
              "      <td>64.715801</td>\n",
              "      <td>2400</td>\n",
              "      <td>0.0</td>\n",
              "      <td>136</td>\n",
              "      <td>3</td>\n",
              "    </tr>\n",
              "    <tr>\n",
              "      <th>...</th>\n",
              "      <td>...</td>\n",
              "      <td>...</td>\n",
              "      <td>...</td>\n",
              "      <td>...</td>\n",
              "      <td>...</td>\n",
              "      <td>...</td>\n",
              "      <td>...</td>\n",
              "      <td>...</td>\n",
              "      <td>...</td>\n",
              "      <td>...</td>\n",
              "      <td>...</td>\n",
              "      <td>...</td>\n",
              "      <td>...</td>\n",
              "      <td>...</td>\n",
              "      <td>...</td>\n",
              "      <td>...</td>\n",
              "      <td>...</td>\n",
              "      <td>...</td>\n",
              "      <td>...</td>\n",
              "      <td>...</td>\n",
              "      <td>...</td>\n",
              "    </tr>\n",
              "    <tr>\n",
              "      <th>1292</th>\n",
              "      <td>1293</td>\n",
              "      <td>1290.0</td>\n",
              "      <td>0</td>\n",
              "      <td>0</td>\n",
              "      <td>1</td>\n",
              "      <td>0.0</td>\n",
              "      <td>328</td>\n",
              "      <td>0.0</td>\n",
              "      <td>0.0</td>\n",
              "      <td>94</td>\n",
              "      <td>...</td>\n",
              "      <td>79</td>\n",
              "      <td>0</td>\n",
              "      <td>0</td>\n",
              "      <td>2.5</td>\n",
              "      <td>3</td>\n",
              "      <td>9.000000</td>\n",
              "      <td>2</td>\n",
              "      <td>0.0</td>\n",
              "      <td>9</td>\n",
              "      <td>1</td>\n",
              "    </tr>\n",
              "    <tr>\n",
              "      <th>1293</th>\n",
              "      <td>1294</td>\n",
              "      <td>1143.0</td>\n",
              "      <td>0</td>\n",
              "      <td>2</td>\n",
              "      <td>1</td>\n",
              "      <td>0</td>\n",
              "      <td>65</td>\n",
              "      <td>0</td>\n",
              "      <td>-0.7</td>\n",
              "      <td>35</td>\n",
              "      <td>...</td>\n",
              "      <td>78.80571602</td>\n",
              "      <td>-1165812.0</td>\n",
              "      <td>0</td>\n",
              "      <td>-0.7</td>\n",
              "      <td>2</td>\n",
              "      <td>50.151790</td>\n",
              "      <td>0</td>\n",
              "      <td>0.0</td>\n",
              "      <td>8</td>\n",
              "      <td>1</td>\n",
              "    </tr>\n",
              "    <tr>\n",
              "      <th>1294</th>\n",
              "      <td>1295</td>\n",
              "      <td>1010.0</td>\n",
              "      <td>0</td>\n",
              "      <td>0</td>\n",
              "      <td>1</td>\n",
              "      <td>15</td>\n",
              "      <td>19</td>\n",
              "      <td>0.0</td>\n",
              "      <td>0.15</td>\n",
              "      <td>9</td>\n",
              "      <td>...</td>\n",
              "      <td>79</td>\n",
              "      <td>5037661.0</td>\n",
              "      <td>0</td>\n",
              "      <td>8.6</td>\n",
              "      <td>2</td>\n",
              "      <td>9.000000</td>\n",
              "      <td>26</td>\n",
              "      <td>0.38</td>\n",
              "      <td>33</td>\n",
              "      <td>2</td>\n",
              "    </tr>\n",
              "    <tr>\n",
              "      <th>1295</th>\n",
              "      <td>1296</td>\n",
              "      <td>3500.0</td>\n",
              "      <td>0</td>\n",
              "      <td>0</td>\n",
              "      <td>1</td>\n",
              "      <td>0.0</td>\n",
              "      <td>68</td>\n",
              "      <td>0.0</td>\n",
              "      <td>0.0</td>\n",
              "      <td>18</td>\n",
              "      <td>...</td>\n",
              "      <td>79</td>\n",
              "      <td>0</td>\n",
              "      <td>0</td>\n",
              "      <td>3.4</td>\n",
              "      <td>1</td>\n",
              "      <td>9.000000</td>\n",
              "      <td>116</td>\n",
              "      <td>0.0</td>\n",
              "      <td>23</td>\n",
              "      <td>1</td>\n",
              "    </tr>\n",
              "    <tr>\n",
              "      <th>1296</th>\n",
              "      <td>1297</td>\n",
              "      <td>1232.0</td>\n",
              "      <td>0</td>\n",
              "      <td>0</td>\n",
              "      <td>1</td>\n",
              "      <td>0</td>\n",
              "      <td>68</td>\n",
              "      <td>0</td>\n",
              "      <td>0.0</td>\n",
              "      <td>18</td>\n",
              "      <td>...</td>\n",
              "      <td>78.80571602</td>\n",
              "      <td>0</td>\n",
              "      <td>0</td>\n",
              "      <td>3.4</td>\n",
              "      <td>1</td>\n",
              "      <td>9.200210</td>\n",
              "      <td>116</td>\n",
              "      <td>0.0</td>\n",
              "      <td>23</td>\n",
              "      <td>1</td>\n",
              "    </tr>\n",
              "  </tbody>\n",
              "</table>\n",
              "<p>1297 rows × 21 columns</p>\n",
              "</div>\n",
              "      <button class=\"colab-df-convert\" onclick=\"convertToInteractive('df-5e44b9ee-dd96-419c-819b-e076e2806609')\"\n",
              "              title=\"Convert this dataframe to an interactive table.\"\n",
              "              style=\"display:none;\">\n",
              "        \n",
              "  <svg xmlns=\"http://www.w3.org/2000/svg\" height=\"24px\"viewBox=\"0 0 24 24\"\n",
              "       width=\"24px\">\n",
              "    <path d=\"M0 0h24v24H0V0z\" fill=\"none\"/>\n",
              "    <path d=\"M18.56 5.44l.94 2.06.94-2.06 2.06-.94-2.06-.94-.94-2.06-.94 2.06-2.06.94zm-11 1L8.5 8.5l.94-2.06 2.06-.94-2.06-.94L8.5 2.5l-.94 2.06-2.06.94zm10 10l.94 2.06.94-2.06 2.06-.94-2.06-.94-.94-2.06-.94 2.06-2.06.94z\"/><path d=\"M17.41 7.96l-1.37-1.37c-.4-.4-.92-.59-1.43-.59-.52 0-1.04.2-1.43.59L10.3 9.45l-7.72 7.72c-.78.78-.78 2.05 0 2.83L4 21.41c.39.39.9.59 1.41.59.51 0 1.02-.2 1.41-.59l7.78-7.78 2.81-2.81c.8-.78.8-2.07 0-2.86zM5.41 20L4 18.59l7.72-7.72 1.47 1.35L5.41 20z\"/>\n",
              "  </svg>\n",
              "      </button>\n",
              "      \n",
              "  <style>\n",
              "    .colab-df-container {\n",
              "      display:flex;\n",
              "      flex-wrap:wrap;\n",
              "      gap: 12px;\n",
              "    }\n",
              "\n",
              "    .colab-df-convert {\n",
              "      background-color: #E8F0FE;\n",
              "      border: none;\n",
              "      border-radius: 50%;\n",
              "      cursor: pointer;\n",
              "      display: none;\n",
              "      fill: #1967D2;\n",
              "      height: 32px;\n",
              "      padding: 0 0 0 0;\n",
              "      width: 32px;\n",
              "    }\n",
              "\n",
              "    .colab-df-convert:hover {\n",
              "      background-color: #E2EBFA;\n",
              "      box-shadow: 0px 1px 2px rgba(60, 64, 67, 0.3), 0px 1px 3px 1px rgba(60, 64, 67, 0.15);\n",
              "      fill: #174EA6;\n",
              "    }\n",
              "\n",
              "    [theme=dark] .colab-df-convert {\n",
              "      background-color: #3B4455;\n",
              "      fill: #D2E3FC;\n",
              "    }\n",
              "\n",
              "    [theme=dark] .colab-df-convert:hover {\n",
              "      background-color: #434B5C;\n",
              "      box-shadow: 0px 1px 3px 1px rgba(0, 0, 0, 0.15);\n",
              "      filter: drop-shadow(0px 1px 2px rgba(0, 0, 0, 0.3));\n",
              "      fill: #FFFFFF;\n",
              "    }\n",
              "  </style>\n",
              "\n",
              "      <script>\n",
              "        const buttonEl =\n",
              "          document.querySelector('#df-5e44b9ee-dd96-419c-819b-e076e2806609 button.colab-df-convert');\n",
              "        buttonEl.style.display =\n",
              "          google.colab.kernel.accessAllowed ? 'block' : 'none';\n",
              "\n",
              "        async function convertToInteractive(key) {\n",
              "          const element = document.querySelector('#df-5e44b9ee-dd96-419c-819b-e076e2806609');\n",
              "          const dataTable =\n",
              "            await google.colab.kernel.invokeFunction('convertToInteractive',\n",
              "                                                     [key], {});\n",
              "          if (!dataTable) return;\n",
              "\n",
              "          const docLinkHtml = 'Like what you see? Visit the ' +\n",
              "            '<a target=\"_blank\" href=https://colab.research.google.com/notebooks/data_table.ipynb>data table notebook</a>'\n",
              "            + ' to learn more about interactive tables.';\n",
              "          element.innerHTML = '';\n",
              "          dataTable['output_type'] = 'display_data';\n",
              "          await google.colab.output.renderOutput(dataTable, element);\n",
              "          const docLink = document.createElement('div');\n",
              "          docLink.innerHTML = docLinkHtml;\n",
              "          element.appendChild(docLink);\n",
              "        }\n",
              "      </script>\n",
              "    </div>\n",
              "  </div>\n",
              "  "
            ]
          },
          "metadata": {},
          "execution_count": 12
        }
      ]
    },
    {
      "cell_type": "code",
      "source": [
        "df.info()"
      ],
      "metadata": {
        "colab": {
          "base_uri": "https://localhost:8080/"
        },
        "id": "4RivGvlU_fx5",
        "outputId": "cdcf0317-966a-4c41-e04b-c2e5fa9ea5c4"
      },
      "execution_count": 13,
      "outputs": [
        {
          "output_type": "stream",
          "name": "stdout",
          "text": [
            "<class 'pandas.core.frame.DataFrame'>\n",
            "RangeIndex: 1297 entries, 0 to 1296\n",
            "Data columns (total 21 columns):\n",
            " #   Column                                                     Non-Null Count  Dtype  \n",
            "---  ------                                                     --------------  -----  \n",
            " 0   Company ID                                                 1297 non-null   int64  \n",
            " 1   Valuation ($m)                                             1297 non-null   object \n",
            " 2   (Crunchbase) Monthly Visits to Company Home Page (m)       1297 non-null   object \n",
            " 3   (Tracxn) Number of New Articles since Last Year            1297 non-null   object \n",
            " 4   (Crunchbase) Number of Acquisitions                        1297 non-null   int64  \n",
            " 5   (Crunchbase) Number of Patents Granted                     1297 non-null   object \n",
            " 6   (Crunchbase) Competitor Max Total Funding Amount ($m)      1297 non-null   object \n",
            " 7   (App Annie) Average Change in Downloads (k)                1297 non-null   object \n",
            " 8   (Crunchbase) Growth in Page Views:Visit Ratio              1297 non-null   object \n",
            " 9   (Crunchbase) Competitor Average Funding Amount ($m)        1297 non-null   object \n",
            " 10  (Tracxn) Change in Twitter Followers over 6 Months (k)     1297 non-null   float64\n",
            " 11  (Glassdoor) CEO Rating                                     1297 non-null   object \n",
            " 12  (Crunchbase) Website Monthly Rank Change (#)               1297 non-null   object \n",
            " 13  (Tracxn) Number of Twitter Followers (k)                   1297 non-null   object \n",
            " 14  (Crunchbase) 90 Days Trend Score                           1297 non-null   float64\n",
            " 15  (Crunchbase) Number of Founders                            1297 non-null   int64  \n",
            " 16  (Tracxn) Score                                             1297 non-null   float64\n",
            " 17  (Twitter) Maximum Number of Followers of Competitor (k)    1297 non-null   object \n",
            " 18  (LinkedIn) 2 Years Headcount Growth (%)                    1297 non-null   object \n",
            " 19  (Crunchbase) Total Products Active                         1297 non-null   int64  \n",
            " 20  (Crunchbase) Minimum Number of Articles about Competitors  1297 non-null   int64  \n",
            "dtypes: float64(3), int64(5), object(13)\n",
            "memory usage: 212.9+ KB\n"
          ]
        }
      ]
    },
    {
      "cell_type": "markdown",
      "source": [
        "#### **Let's convert the data types to float for the model process easier.**"
      ],
      "metadata": {
        "id": "q46z3zGNf5UQ"
      }
    },
    {
      "cell_type": "code",
      "source": [
        "df = df.applymap(lambda x: float(x))\n",
        "df.info()"
      ],
      "metadata": {
        "colab": {
          "base_uri": "https://localhost:8080/"
        },
        "id": "OIYUxdI3_mL9",
        "outputId": "0b408f14-b60a-49fd-8171-2e806da88948"
      },
      "execution_count": 14,
      "outputs": [
        {
          "output_type": "stream",
          "name": "stdout",
          "text": [
            "<class 'pandas.core.frame.DataFrame'>\n",
            "RangeIndex: 1297 entries, 0 to 1296\n",
            "Data columns (total 21 columns):\n",
            " #   Column                                                     Non-Null Count  Dtype  \n",
            "---  ------                                                     --------------  -----  \n",
            " 0   Company ID                                                 1297 non-null   float64\n",
            " 1   Valuation ($m)                                             1297 non-null   float64\n",
            " 2   (Crunchbase) Monthly Visits to Company Home Page (m)       1297 non-null   float64\n",
            " 3   (Tracxn) Number of New Articles since Last Year            1297 non-null   float64\n",
            " 4   (Crunchbase) Number of Acquisitions                        1297 non-null   float64\n",
            " 5   (Crunchbase) Number of Patents Granted                     1297 non-null   float64\n",
            " 6   (Crunchbase) Competitor Max Total Funding Amount ($m)      1297 non-null   float64\n",
            " 7   (App Annie) Average Change in Downloads (k)                1297 non-null   float64\n",
            " 8   (Crunchbase) Growth in Page Views:Visit Ratio              1297 non-null   float64\n",
            " 9   (Crunchbase) Competitor Average Funding Amount ($m)        1297 non-null   float64\n",
            " 10  (Tracxn) Change in Twitter Followers over 6 Months (k)     1297 non-null   float64\n",
            " 11  (Glassdoor) CEO Rating                                     1297 non-null   float64\n",
            " 12  (Crunchbase) Website Monthly Rank Change (#)               1297 non-null   float64\n",
            " 13  (Tracxn) Number of Twitter Followers (k)                   1297 non-null   float64\n",
            " 14  (Crunchbase) 90 Days Trend Score                           1297 non-null   float64\n",
            " 15  (Crunchbase) Number of Founders                            1297 non-null   float64\n",
            " 16  (Tracxn) Score                                             1297 non-null   float64\n",
            " 17  (Twitter) Maximum Number of Followers of Competitor (k)    1297 non-null   float64\n",
            " 18  (LinkedIn) 2 Years Headcount Growth (%)                    1297 non-null   float64\n",
            " 19  (Crunchbase) Total Products Active                         1297 non-null   float64\n",
            " 20  (Crunchbase) Minimum Number of Articles about Competitors  1297 non-null   float64\n",
            "dtypes: float64(21)\n",
            "memory usage: 212.9 KB\n"
          ]
        }
      ]
    },
    {
      "cell_type": "markdown",
      "source": [
        "#### **Sanity check on the dataset**"
      ],
      "metadata": {
        "id": "zfNkD0LmgCJU"
      }
    },
    {
      "cell_type": "code",
      "source": [
        "df.isnull().sum()"
      ],
      "metadata": {
        "colab": {
          "base_uri": "https://localhost:8080/"
        },
        "id": "dLF_zRh4_n_d",
        "outputId": "d7f6a85a-2dd3-4ab5-f574-9ec0881d1352"
      },
      "execution_count": 15,
      "outputs": [
        {
          "output_type": "execute_result",
          "data": {
            "text/plain": [
              "Company ID                                                   0\n",
              "Valuation ($m)                                               0\n",
              "(Crunchbase) Monthly Visits to Company Home Page (m)         0\n",
              "(Tracxn) Number of New Articles since Last Year              0\n",
              "(Crunchbase) Number of Acquisitions                          0\n",
              "(Crunchbase) Number of Patents Granted                       0\n",
              "(Crunchbase) Competitor Max Total Funding Amount ($m)        0\n",
              "(App Annie) Average Change in Downloads (k)                  0\n",
              "(Crunchbase) Growth in Page Views:Visit Ratio                0\n",
              "(Crunchbase) Competitor Average Funding Amount ($m)          0\n",
              "(Tracxn) Change in Twitter Followers over 6 Months (k)       0\n",
              "(Glassdoor) CEO Rating                                       0\n",
              "(Crunchbase) Website Monthly Rank Change (#)                 0\n",
              "(Tracxn) Number of Twitter Followers (k)                     0\n",
              "(Crunchbase) 90 Days Trend Score                             0\n",
              "(Crunchbase) Number of Founders                              0\n",
              "(Tracxn) Score                                               0\n",
              "(Twitter) Maximum Number of Followers of Competitor (k)      0\n",
              "(LinkedIn) 2 Years Headcount Growth (%)                      0\n",
              "(Crunchbase) Total Products Active                           0\n",
              "(Crunchbase) Minimum Number of Articles about Competitors    0\n",
              "dtype: int64"
            ]
          },
          "metadata": {},
          "execution_count": 15
        }
      ]
    },
    {
      "cell_type": "code",
      "source": [
        "df.count()"
      ],
      "metadata": {
        "colab": {
          "base_uri": "https://localhost:8080/"
        },
        "id": "ZQq_Me_P_rlh",
        "outputId": "2cbe7ab4-7e77-4ef4-d254-37bf9cf90062"
      },
      "execution_count": 16,
      "outputs": [
        {
          "output_type": "execute_result",
          "data": {
            "text/plain": [
              "Company ID                                                   1297\n",
              "Valuation ($m)                                               1297\n",
              "(Crunchbase) Monthly Visits to Company Home Page (m)         1297\n",
              "(Tracxn) Number of New Articles since Last Year              1297\n",
              "(Crunchbase) Number of Acquisitions                          1297\n",
              "(Crunchbase) Number of Patents Granted                       1297\n",
              "(Crunchbase) Competitor Max Total Funding Amount ($m)        1297\n",
              "(App Annie) Average Change in Downloads (k)                  1297\n",
              "(Crunchbase) Growth in Page Views:Visit Ratio                1297\n",
              "(Crunchbase) Competitor Average Funding Amount ($m)          1297\n",
              "(Tracxn) Change in Twitter Followers over 6 Months (k)       1297\n",
              "(Glassdoor) CEO Rating                                       1297\n",
              "(Crunchbase) Website Monthly Rank Change (#)                 1297\n",
              "(Tracxn) Number of Twitter Followers (k)                     1297\n",
              "(Crunchbase) 90 Days Trend Score                             1297\n",
              "(Crunchbase) Number of Founders                              1297\n",
              "(Tracxn) Score                                               1297\n",
              "(Twitter) Maximum Number of Followers of Competitor (k)      1297\n",
              "(LinkedIn) 2 Years Headcount Growth (%)                      1297\n",
              "(Crunchbase) Total Products Active                           1297\n",
              "(Crunchbase) Minimum Number of Articles about Competitors    1297\n",
              "dtype: int64"
            ]
          },
          "metadata": {},
          "execution_count": 16
        }
      ]
    },
    {
      "cell_type": "markdown",
      "source": [
        "#### **Exploratory Data Analysis**"
      ],
      "metadata": {
        "id": "OuGNv4yD0YfI"
      }
    },
    {
      "cell_type": "code",
      "source": [
        "df.describe()"
      ],
      "metadata": {
        "colab": {
          "base_uri": "https://localhost:8080/",
          "height": 498
        },
        "id": "bB1nTGVv_s09",
        "outputId": "2f177711-3223-4051-d2e1-f81258956aed"
      },
      "execution_count": 17,
      "outputs": [
        {
          "output_type": "execute_result",
          "data": {
            "text/plain": [
              "        Company ID  Valuation ($m)  \\\n",
              "count  1297.000000     1297.000000   \n",
              "mean    649.000000     2842.207402   \n",
              "std     374.555959    25854.562746   \n",
              "min       1.000000        0.000000   \n",
              "25%     325.000000       30.000000   \n",
              "50%     649.000000      500.000000   \n",
              "75%     973.000000      500.000000   \n",
              "max    1297.000000   865780.000000   \n",
              "\n",
              "       (Crunchbase) Monthly Visits to Company Home Page (m)  \\\n",
              "count                                        1297.000000      \n",
              "mean                                          102.555127      \n",
              "std                                          1795.912328      \n",
              "min                                             0.000000      \n",
              "25%                                             0.000000      \n",
              "50%                                             0.000000      \n",
              "75%                                             0.000000      \n",
              "max                                         40586.000000      \n",
              "\n",
              "       (Tracxn) Number of New Articles since Last Year  \\\n",
              "count                                      1297.000000   \n",
              "mean                                         27.346955   \n",
              "std                                         222.357514   \n",
              "min                                           0.000000   \n",
              "25%                                           0.000000   \n",
              "50%                                           0.000000   \n",
              "75%                                           2.000000   \n",
              "max                                        5892.000000   \n",
              "\n",
              "       (Crunchbase) Number of Acquisitions  \\\n",
              "count                          1297.000000   \n",
              "mean                              1.748651   \n",
              "std                               3.884527   \n",
              "min                               1.000000   \n",
              "25%                               1.000000   \n",
              "50%                               1.000000   \n",
              "75%                               1.000000   \n",
              "max                              87.000000   \n",
              "\n",
              "       (Crunchbase) Number of Patents Granted  \\\n",
              "count                             1297.000000   \n",
              "mean                                 4.019275   \n",
              "std                                 39.327139   \n",
              "min                                  0.000000   \n",
              "25%                                  0.000000   \n",
              "50%                                  0.000000   \n",
              "75%                                  0.000000   \n",
              "max                                872.000000   \n",
              "\n",
              "       (Crunchbase) Competitor Max Total Funding Amount ($m)  \\\n",
              "count                                        1297.000000       \n",
              "mean                                          354.423285       \n",
              "std                                          5780.495415       \n",
              "min                                             0.000000       \n",
              "25%                                             0.000000       \n",
              "50%                                             0.000000       \n",
              "75%                                            16.000000       \n",
              "max                                        200000.000000       \n",
              "\n",
              "       (App Annie) Average Change in Downloads (k)  \\\n",
              "count                                  1297.000000   \n",
              "mean                                    108.109483   \n",
              "std                                    1524.823089   \n",
              "min                                       0.000000   \n",
              "25%                                       0.000000   \n",
              "50%                                       0.000000   \n",
              "75%                                       0.000000   \n",
              "max                                   51281.000000   \n",
              "\n",
              "       (Crunchbase) Growth in Page Views:Visit Ratio  \\\n",
              "count                                    1297.000000   \n",
              "mean                                        0.036901   \n",
              "std                                         0.480275   \n",
              "min                                        -0.820000   \n",
              "25%                                         0.000000   \n",
              "50%                                         0.000000   \n",
              "75%                                         0.000000   \n",
              "max                                        10.590000   \n",
              "\n",
              "       (Crunchbase) Competitor Average Funding Amount ($m)  ...  \\\n",
              "count                                        1297.000000    ...   \n",
              "mean                                          177.060910    ...   \n",
              "std                                          2894.538467    ...   \n",
              "min                                             0.000000    ...   \n",
              "25%                                             1.000000    ...   \n",
              "50%                                             5.000000    ...   \n",
              "75%                                            25.000000    ...   \n",
              "max                                         95303.000000    ...   \n",
              "\n",
              "       (Glassdoor) CEO Rating  (Crunchbase) Website Monthly Rank Change (#)  \\\n",
              "count             1297.000000                                  1.297000e+03   \n",
              "mean                79.535602                                  1.604279e+05   \n",
              "std                  9.615396                                  8.969200e+05   \n",
              "min                  0.000000                                 -5.900126e+06   \n",
              "25%                 78.805716                                  0.000000e+00   \n",
              "50%                 78.805716                                  0.000000e+00   \n",
              "75%                 78.805716                                  0.000000e+00   \n",
              "max                100.000000                                  1.236307e+07   \n",
              "\n",
              "       (Tracxn) Number of Twitter Followers (k)  \\\n",
              "count                               1297.000000   \n",
              "mean                                 183.370085   \n",
              "std                                 3032.668119   \n",
              "min                                    0.000000   \n",
              "25%                                    0.000000   \n",
              "50%                                    0.000000   \n",
              "75%                                    0.000000   \n",
              "max                                72418.000000   \n",
              "\n",
              "       (Crunchbase) 90 Days Trend Score  (Crunchbase) Number of Founders  \\\n",
              "count                       1297.000000                      1297.000000   \n",
              "mean                           1.097301                         1.793369   \n",
              "std                            2.666785                         1.140792   \n",
              "min                           -5.500000                         1.000000   \n",
              "25%                           -0.400000                         1.000000   \n",
              "50%                           -0.100000                         1.000000   \n",
              "75%                            2.100000                         2.000000   \n",
              "max                            9.900000                        14.000000   \n",
              "\n",
              "       (Tracxn) Score  \\\n",
              "count     1297.000000   \n",
              "mean        32.196225   \n",
              "std         22.615593   \n",
              "min          0.000000   \n",
              "25%          9.874009   \n",
              "50%         25.720095   \n",
              "75%         49.362196   \n",
              "max         87.000000   \n",
              "\n",
              "       (Twitter) Maximum Number of Followers of Competitor (k)  \\\n",
              "count                                        1297.000000         \n",
              "mean                                          201.283732         \n",
              "std                                          2897.321147         \n",
              "min                                             0.000000         \n",
              "25%                                             1.000000         \n",
              "50%                                             5.000000         \n",
              "75%                                            21.000000         \n",
              "max                                         72300.000000         \n",
              "\n",
              "       (LinkedIn) 2 Years Headcount Growth (%)  \\\n",
              "count                              1297.000000   \n",
              "mean                                  0.088967   \n",
              "std                                   0.514697   \n",
              "min                                  -0.540000   \n",
              "25%                                   0.000000   \n",
              "50%                                   0.000000   \n",
              "75%                                   0.000000   \n",
              "max                                  10.000000   \n",
              "\n",
              "       (Crunchbase) Total Products Active  \\\n",
              "count                         1297.000000   \n",
              "mean                            17.845027   \n",
              "std                             20.370751   \n",
              "min                              1.000000   \n",
              "25%                              1.000000   \n",
              "50%                             12.000000   \n",
              "75%                             27.000000   \n",
              "max                            177.000000   \n",
              "\n",
              "       (Crunchbase) Minimum Number of Articles about Competitors  \n",
              "count                                        1297.000000          \n",
              "mean                                            1.664611          \n",
              "std                                             3.810024          \n",
              "min                                             1.000000          \n",
              "25%                                             1.000000          \n",
              "50%                                             1.000000          \n",
              "75%                                             1.000000          \n",
              "max                                            62.000000          \n",
              "\n",
              "[8 rows x 21 columns]"
            ],
            "text/html": [
              "\n",
              "  <div id=\"df-6f2a1bd5-d08c-4214-ae29-fe3a68b83315\">\n",
              "    <div class=\"colab-df-container\">\n",
              "      <div>\n",
              "<style scoped>\n",
              "    .dataframe tbody tr th:only-of-type {\n",
              "        vertical-align: middle;\n",
              "    }\n",
              "\n",
              "    .dataframe tbody tr th {\n",
              "        vertical-align: top;\n",
              "    }\n",
              "\n",
              "    .dataframe thead th {\n",
              "        text-align: right;\n",
              "    }\n",
              "</style>\n",
              "<table border=\"1\" class=\"dataframe\">\n",
              "  <thead>\n",
              "    <tr style=\"text-align: right;\">\n",
              "      <th></th>\n",
              "      <th>Company ID</th>\n",
              "      <th>Valuation ($m)</th>\n",
              "      <th>(Crunchbase) Monthly Visits to Company Home Page (m)</th>\n",
              "      <th>(Tracxn) Number of New Articles since Last Year</th>\n",
              "      <th>(Crunchbase) Number of Acquisitions</th>\n",
              "      <th>(Crunchbase) Number of Patents Granted</th>\n",
              "      <th>(Crunchbase) Competitor Max Total Funding Amount ($m)</th>\n",
              "      <th>(App Annie) Average Change in Downloads (k)</th>\n",
              "      <th>(Crunchbase) Growth in Page Views:Visit Ratio</th>\n",
              "      <th>(Crunchbase) Competitor Average Funding Amount ($m)</th>\n",
              "      <th>...</th>\n",
              "      <th>(Glassdoor) CEO Rating</th>\n",
              "      <th>(Crunchbase) Website Monthly Rank Change (#)</th>\n",
              "      <th>(Tracxn) Number of Twitter Followers (k)</th>\n",
              "      <th>(Crunchbase) 90 Days Trend Score</th>\n",
              "      <th>(Crunchbase) Number of Founders</th>\n",
              "      <th>(Tracxn) Score</th>\n",
              "      <th>(Twitter) Maximum Number of Followers of Competitor (k)</th>\n",
              "      <th>(LinkedIn) 2 Years Headcount Growth (%)</th>\n",
              "      <th>(Crunchbase) Total Products Active</th>\n",
              "      <th>(Crunchbase) Minimum Number of Articles about Competitors</th>\n",
              "    </tr>\n",
              "  </thead>\n",
              "  <tbody>\n",
              "    <tr>\n",
              "      <th>count</th>\n",
              "      <td>1297.000000</td>\n",
              "      <td>1297.000000</td>\n",
              "      <td>1297.000000</td>\n",
              "      <td>1297.000000</td>\n",
              "      <td>1297.000000</td>\n",
              "      <td>1297.000000</td>\n",
              "      <td>1297.000000</td>\n",
              "      <td>1297.000000</td>\n",
              "      <td>1297.000000</td>\n",
              "      <td>1297.000000</td>\n",
              "      <td>...</td>\n",
              "      <td>1297.000000</td>\n",
              "      <td>1.297000e+03</td>\n",
              "      <td>1297.000000</td>\n",
              "      <td>1297.000000</td>\n",
              "      <td>1297.000000</td>\n",
              "      <td>1297.000000</td>\n",
              "      <td>1297.000000</td>\n",
              "      <td>1297.000000</td>\n",
              "      <td>1297.000000</td>\n",
              "      <td>1297.000000</td>\n",
              "    </tr>\n",
              "    <tr>\n",
              "      <th>mean</th>\n",
              "      <td>649.000000</td>\n",
              "      <td>2842.207402</td>\n",
              "      <td>102.555127</td>\n",
              "      <td>27.346955</td>\n",
              "      <td>1.748651</td>\n",
              "      <td>4.019275</td>\n",
              "      <td>354.423285</td>\n",
              "      <td>108.109483</td>\n",
              "      <td>0.036901</td>\n",
              "      <td>177.060910</td>\n",
              "      <td>...</td>\n",
              "      <td>79.535602</td>\n",
              "      <td>1.604279e+05</td>\n",
              "      <td>183.370085</td>\n",
              "      <td>1.097301</td>\n",
              "      <td>1.793369</td>\n",
              "      <td>32.196225</td>\n",
              "      <td>201.283732</td>\n",
              "      <td>0.088967</td>\n",
              "      <td>17.845027</td>\n",
              "      <td>1.664611</td>\n",
              "    </tr>\n",
              "    <tr>\n",
              "      <th>std</th>\n",
              "      <td>374.555959</td>\n",
              "      <td>25854.562746</td>\n",
              "      <td>1795.912328</td>\n",
              "      <td>222.357514</td>\n",
              "      <td>3.884527</td>\n",
              "      <td>39.327139</td>\n",
              "      <td>5780.495415</td>\n",
              "      <td>1524.823089</td>\n",
              "      <td>0.480275</td>\n",
              "      <td>2894.538467</td>\n",
              "      <td>...</td>\n",
              "      <td>9.615396</td>\n",
              "      <td>8.969200e+05</td>\n",
              "      <td>3032.668119</td>\n",
              "      <td>2.666785</td>\n",
              "      <td>1.140792</td>\n",
              "      <td>22.615593</td>\n",
              "      <td>2897.321147</td>\n",
              "      <td>0.514697</td>\n",
              "      <td>20.370751</td>\n",
              "      <td>3.810024</td>\n",
              "    </tr>\n",
              "    <tr>\n",
              "      <th>min</th>\n",
              "      <td>1.000000</td>\n",
              "      <td>0.000000</td>\n",
              "      <td>0.000000</td>\n",
              "      <td>0.000000</td>\n",
              "      <td>1.000000</td>\n",
              "      <td>0.000000</td>\n",
              "      <td>0.000000</td>\n",
              "      <td>0.000000</td>\n",
              "      <td>-0.820000</td>\n",
              "      <td>0.000000</td>\n",
              "      <td>...</td>\n",
              "      <td>0.000000</td>\n",
              "      <td>-5.900126e+06</td>\n",
              "      <td>0.000000</td>\n",
              "      <td>-5.500000</td>\n",
              "      <td>1.000000</td>\n",
              "      <td>0.000000</td>\n",
              "      <td>0.000000</td>\n",
              "      <td>-0.540000</td>\n",
              "      <td>1.000000</td>\n",
              "      <td>1.000000</td>\n",
              "    </tr>\n",
              "    <tr>\n",
              "      <th>25%</th>\n",
              "      <td>325.000000</td>\n",
              "      <td>30.000000</td>\n",
              "      <td>0.000000</td>\n",
              "      <td>0.000000</td>\n",
              "      <td>1.000000</td>\n",
              "      <td>0.000000</td>\n",
              "      <td>0.000000</td>\n",
              "      <td>0.000000</td>\n",
              "      <td>0.000000</td>\n",
              "      <td>1.000000</td>\n",
              "      <td>...</td>\n",
              "      <td>78.805716</td>\n",
              "      <td>0.000000e+00</td>\n",
              "      <td>0.000000</td>\n",
              "      <td>-0.400000</td>\n",
              "      <td>1.000000</td>\n",
              "      <td>9.874009</td>\n",
              "      <td>1.000000</td>\n",
              "      <td>0.000000</td>\n",
              "      <td>1.000000</td>\n",
              "      <td>1.000000</td>\n",
              "    </tr>\n",
              "    <tr>\n",
              "      <th>50%</th>\n",
              "      <td>649.000000</td>\n",
              "      <td>500.000000</td>\n",
              "      <td>0.000000</td>\n",
              "      <td>0.000000</td>\n",
              "      <td>1.000000</td>\n",
              "      <td>0.000000</td>\n",
              "      <td>0.000000</td>\n",
              "      <td>0.000000</td>\n",
              "      <td>0.000000</td>\n",
              "      <td>5.000000</td>\n",
              "      <td>...</td>\n",
              "      <td>78.805716</td>\n",
              "      <td>0.000000e+00</td>\n",
              "      <td>0.000000</td>\n",
              "      <td>-0.100000</td>\n",
              "      <td>1.000000</td>\n",
              "      <td>25.720095</td>\n",
              "      <td>5.000000</td>\n",
              "      <td>0.000000</td>\n",
              "      <td>12.000000</td>\n",
              "      <td>1.000000</td>\n",
              "    </tr>\n",
              "    <tr>\n",
              "      <th>75%</th>\n",
              "      <td>973.000000</td>\n",
              "      <td>500.000000</td>\n",
              "      <td>0.000000</td>\n",
              "      <td>2.000000</td>\n",
              "      <td>1.000000</td>\n",
              "      <td>0.000000</td>\n",
              "      <td>16.000000</td>\n",
              "      <td>0.000000</td>\n",
              "      <td>0.000000</td>\n",
              "      <td>25.000000</td>\n",
              "      <td>...</td>\n",
              "      <td>78.805716</td>\n",
              "      <td>0.000000e+00</td>\n",
              "      <td>0.000000</td>\n",
              "      <td>2.100000</td>\n",
              "      <td>2.000000</td>\n",
              "      <td>49.362196</td>\n",
              "      <td>21.000000</td>\n",
              "      <td>0.000000</td>\n",
              "      <td>27.000000</td>\n",
              "      <td>1.000000</td>\n",
              "    </tr>\n",
              "    <tr>\n",
              "      <th>max</th>\n",
              "      <td>1297.000000</td>\n",
              "      <td>865780.000000</td>\n",
              "      <td>40586.000000</td>\n",
              "      <td>5892.000000</td>\n",
              "      <td>87.000000</td>\n",
              "      <td>872.000000</td>\n",
              "      <td>200000.000000</td>\n",
              "      <td>51281.000000</td>\n",
              "      <td>10.590000</td>\n",
              "      <td>95303.000000</td>\n",
              "      <td>...</td>\n",
              "      <td>100.000000</td>\n",
              "      <td>1.236307e+07</td>\n",
              "      <td>72418.000000</td>\n",
              "      <td>9.900000</td>\n",
              "      <td>14.000000</td>\n",
              "      <td>87.000000</td>\n",
              "      <td>72300.000000</td>\n",
              "      <td>10.000000</td>\n",
              "      <td>177.000000</td>\n",
              "      <td>62.000000</td>\n",
              "    </tr>\n",
              "  </tbody>\n",
              "</table>\n",
              "<p>8 rows × 21 columns</p>\n",
              "</div>\n",
              "      <button class=\"colab-df-convert\" onclick=\"convertToInteractive('df-6f2a1bd5-d08c-4214-ae29-fe3a68b83315')\"\n",
              "              title=\"Convert this dataframe to an interactive table.\"\n",
              "              style=\"display:none;\">\n",
              "        \n",
              "  <svg xmlns=\"http://www.w3.org/2000/svg\" height=\"24px\"viewBox=\"0 0 24 24\"\n",
              "       width=\"24px\">\n",
              "    <path d=\"M0 0h24v24H0V0z\" fill=\"none\"/>\n",
              "    <path d=\"M18.56 5.44l.94 2.06.94-2.06 2.06-.94-2.06-.94-.94-2.06-.94 2.06-2.06.94zm-11 1L8.5 8.5l.94-2.06 2.06-.94-2.06-.94L8.5 2.5l-.94 2.06-2.06.94zm10 10l.94 2.06.94-2.06 2.06-.94-2.06-.94-.94-2.06-.94 2.06-2.06.94z\"/><path d=\"M17.41 7.96l-1.37-1.37c-.4-.4-.92-.59-1.43-.59-.52 0-1.04.2-1.43.59L10.3 9.45l-7.72 7.72c-.78.78-.78 2.05 0 2.83L4 21.41c.39.39.9.59 1.41.59.51 0 1.02-.2 1.41-.59l7.78-7.78 2.81-2.81c.8-.78.8-2.07 0-2.86zM5.41 20L4 18.59l7.72-7.72 1.47 1.35L5.41 20z\"/>\n",
              "  </svg>\n",
              "      </button>\n",
              "      \n",
              "  <style>\n",
              "    .colab-df-container {\n",
              "      display:flex;\n",
              "      flex-wrap:wrap;\n",
              "      gap: 12px;\n",
              "    }\n",
              "\n",
              "    .colab-df-convert {\n",
              "      background-color: #E8F0FE;\n",
              "      border: none;\n",
              "      border-radius: 50%;\n",
              "      cursor: pointer;\n",
              "      display: none;\n",
              "      fill: #1967D2;\n",
              "      height: 32px;\n",
              "      padding: 0 0 0 0;\n",
              "      width: 32px;\n",
              "    }\n",
              "\n",
              "    .colab-df-convert:hover {\n",
              "      background-color: #E2EBFA;\n",
              "      box-shadow: 0px 1px 2px rgba(60, 64, 67, 0.3), 0px 1px 3px 1px rgba(60, 64, 67, 0.15);\n",
              "      fill: #174EA6;\n",
              "    }\n",
              "\n",
              "    [theme=dark] .colab-df-convert {\n",
              "      background-color: #3B4455;\n",
              "      fill: #D2E3FC;\n",
              "    }\n",
              "\n",
              "    [theme=dark] .colab-df-convert:hover {\n",
              "      background-color: #434B5C;\n",
              "      box-shadow: 0px 1px 3px 1px rgba(0, 0, 0, 0.15);\n",
              "      filter: drop-shadow(0px 1px 2px rgba(0, 0, 0, 0.3));\n",
              "      fill: #FFFFFF;\n",
              "    }\n",
              "  </style>\n",
              "\n",
              "      <script>\n",
              "        const buttonEl =\n",
              "          document.querySelector('#df-6f2a1bd5-d08c-4214-ae29-fe3a68b83315 button.colab-df-convert');\n",
              "        buttonEl.style.display =\n",
              "          google.colab.kernel.accessAllowed ? 'block' : 'none';\n",
              "\n",
              "        async function convertToInteractive(key) {\n",
              "          const element = document.querySelector('#df-6f2a1bd5-d08c-4214-ae29-fe3a68b83315');\n",
              "          const dataTable =\n",
              "            await google.colab.kernel.invokeFunction('convertToInteractive',\n",
              "                                                     [key], {});\n",
              "          if (!dataTable) return;\n",
              "\n",
              "          const docLinkHtml = 'Like what you see? Visit the ' +\n",
              "            '<a target=\"_blank\" href=https://colab.research.google.com/notebooks/data_table.ipynb>data table notebook</a>'\n",
              "            + ' to learn more about interactive tables.';\n",
              "          element.innerHTML = '';\n",
              "          dataTable['output_type'] = 'display_data';\n",
              "          await google.colab.output.renderOutput(dataTable, element);\n",
              "          const docLink = document.createElement('div');\n",
              "          docLink.innerHTML = docLinkHtml;\n",
              "          element.appendChild(docLink);\n",
              "        }\n",
              "      </script>\n",
              "    </div>\n",
              "  </div>\n",
              "  "
            ]
          },
          "metadata": {},
          "execution_count": 17
        }
      ]
    },
    {
      "cell_type": "code",
      "source": [
        "# Generate a correlation matrix function and assign it\n",
        "corr = df.corr()\n",
        "\n",
        "# Generate an upper triangle mask\n",
        "mask = np.zeros_like(corr, dtype=np.bool)\n",
        "mask[np.triu_indices_from(mask)] = True\n",
        "\n",
        "# Set up the matplotlib figure\n",
        "f, ax = plt.subplots(figsize=(11, 9))\n",
        "\n",
        "# Generate a custom diverging colormap\n",
        "cmap = sns.diverging_palette(220, 10, as_cmap=True)\n",
        "\n",
        "# Draw the heatmap with the mask, correct aspect ratio and Spectral color theme\n",
        "sns.heatmap(corr, mask=mask, cmap='Spectral', vmax=.3, center=0, annot_kws={\"size\": 20}, \n",
        "            square=True, linewidths=.5, cbar_kws={\"shrink\": .7})\n",
        "\n",
        "# Make it readable and nice\n",
        "plt.yticks(rotation=0, fontweight='bold', fontsize=10)\n",
        "plt.xticks(fontweight='bold', fontsize=10)\n",
        "plt.title('Correlation Matrix Heatmap of All Features'\n",
        "          , fontweight='bold', fontsize=15,color='k')\n"
      ],
      "metadata": {
        "colab": {
          "base_uri": "https://localhost:8080/",
          "height": 988
        },
        "id": "5mvNCoWnwldx",
        "outputId": "a017172f-e664-485b-db18-5294f715df3e"
      },
      "execution_count": 85,
      "outputs": [
        {
          "output_type": "stream",
          "name": "stderr",
          "text": [
            "/usr/local/lib/python3.7/dist-packages/ipykernel_launcher.py:5: DeprecationWarning: `np.bool` is a deprecated alias for the builtin `bool`. To silence this warning, use `bool` by itself. Doing this will not modify any behavior and is safe. If you specifically wanted the numpy scalar type, use `np.bool_` here.\n",
            "Deprecated in NumPy 1.20; for more details and guidance: https://numpy.org/devdocs/release/1.20.0-notes.html#deprecations\n",
            "  \"\"\"\n"
          ]
        },
        {
          "output_type": "execute_result",
          "data": {
            "text/plain": [
              "Text(0.5, 1.0, 'Correlation Matrix Heatmap of All Features')"
            ]
          },
          "metadata": {},
          "execution_count": 85
        },
        {
          "output_type": "display_data",
          "data": {
            "text/plain": [
              "<Figure size 792x648 with 2 Axes>"
            ],
            "image/png": "[encoded data removed]"
          },
          "metadata": {
            "needs_background": "light"
          }
        }
      ]
    },
    {
      "cell_type": "markdown",
      "source": [
        "#### **The Correlation Matrix shows there is some class imbalance in the dataset contributing to model selection.  The majority, not all of the correlations are neutral so using all 19 features is not necessary.**\n",
        "\n",
        "#### **Convert the above dataframe to an numpy array to prepare for modeling below.**"
      ],
      "metadata": {
        "id": "lb-EQvWAgUp3"
      }
    },
    {
      "cell_type": "code",
      "source": [
        "columns = np.array(df.columns[2:])"
      ],
      "metadata": {
        "id": "-19KQKDCNiDI"
      },
      "execution_count": 18,
      "outputs": []
    },
    {
      "cell_type": "code",
      "source": [
        "columns"
      ],
      "metadata": {
        "colab": {
          "base_uri": "https://localhost:8080/"
        },
        "id": "QatAO3pfkb4x",
        "outputId": "efe31d63-9d68-4b17-beee-27494503b1b3"
      },
      "execution_count": 19,
      "outputs": [
        {
          "output_type": "execute_result",
          "data": {
            "text/plain": [
              "array(['(Crunchbase) Monthly Visits to Company Home Page (m)',\n",
              "       '(Tracxn) Number of New Articles since Last Year',\n",
              "       '(Crunchbase) Number of Acquisitions',\n",
              "       '(Crunchbase) Number of Patents Granted',\n",
              "       '(Crunchbase) Competitor Max Total Funding Amount ($m)',\n",
              "       '(App Annie) Average Change in Downloads (k)',\n",
              "       '(Crunchbase) Growth in Page Views:Visit Ratio',\n",
              "       '(Crunchbase) Competitor Average Funding Amount ($m)',\n",
              "       '(Tracxn) Change in Twitter Followers over 6 Months (k)',\n",
              "       '(Glassdoor) CEO Rating',\n",
              "       '(Crunchbase) Website Monthly Rank Change (#)',\n",
              "       '(Tracxn) Number of Twitter Followers (k)',\n",
              "       '(Crunchbase) 90 Days Trend Score',\n",
              "       '(Crunchbase) Number of Founders', '(Tracxn) Score',\n",
              "       '(Twitter) Maximum Number of Followers of Competitor (k)',\n",
              "       '(LinkedIn) 2 Years Headcount Growth (%)',\n",
              "       '(Crunchbase) Total Products Active',\n",
              "       '(Crunchbase) Minimum Number of Articles about Competitors'],\n",
              "      dtype=object)"
            ]
          },
          "metadata": {},
          "execution_count": 19
        }
      ]
    },
    {
      "cell_type": "markdown",
      "source": [
        "#### **There are 19 columns, but please note the display above squeezes (Tracxn) Score with another columns even though the two columns are separate.**"
      ],
      "metadata": {
        "id": "d3SChaO2lZFP"
      }
    },
    {
      "cell_type": "code",
      "source": [
        "data = np.array(df)"
      ],
      "metadata": {
        "id": "T6T_pvGG_vMz"
      },
      "execution_count": 20,
      "outputs": []
    },
    {
      "cell_type": "markdown",
      "source": [
        "# **3. Variable Assignment for the XGBoost Model**"
      ],
      "metadata": {
        "id": "gri9oUeUgdIB"
      }
    },
    {
      "cell_type": "code",
      "source": [
        "Y = data[:,1]\n",
        "Y = np.where(Y>=1000, 1,0)"
      ],
      "metadata": {
        "id": "kZ9FJqjJ_xBi"
      },
      "execution_count": 21,
      "outputs": []
    },
    {
      "cell_type": "code",
      "source": [
        "X = data[:,2:]"
      ],
      "metadata": {
        "id": "Q2aIKBol_zgG"
      },
      "execution_count": 22,
      "outputs": []
    },
    {
      "cell_type": "markdown",
      "source": [
        "# **4.  XGBoost Feature Importance of the 19 provided factors**\n",
        "\n",
        "#### **The below algorithm builds out tree for each feature and assigns a score of importance.  The higher the score the better as higher contributor to the Valuation target variable, Y.** \n",
        "\n",
        "#### **The first pass of the dataset is a weaker learner as improvements lead to a strong learner with multiple iterations.  The improvements raise the accruacy of the model by processing each error.**"
      ],
      "metadata": {
        "id": "Z06P6JAYgu0P"
      }
    },
    {
      "cell_type": "code",
      "source": [
        "from xgboost import XGBClassifier\n",
        "\n",
        "# fit model no training data\n",
        "model = XGBClassifier()\n",
        "model.fit(X, Y)"
      ],
      "metadata": {
        "colab": {
          "base_uri": "https://localhost:8080/"
        },
        "id": "45JCY_l1_1CU",
        "outputId": "f74846cc-7b45-497a-cfb3-196a4658d6ed"
      },
      "execution_count": 23,
      "outputs": [
        {
          "output_type": "execute_result",
          "data": {
            "text/plain": [
              "XGBClassifier()"
            ]
          },
          "metadata": {},
          "execution_count": 23
        }
      ]
    },
    {
      "cell_type": "code",
      "source": [
        "# feature importance\n",
        "print(model.feature_importances_)"
      ],
      "metadata": {
        "colab": {
          "base_uri": "https://localhost:8080/"
        },
        "id": "3NM_-Xvb_4SQ",
        "outputId": "8e277bb7-a671-4600-8aba-ca575d12c74d"
      },
      "execution_count": 24,
      "outputs": [
        {
          "output_type": "stream",
          "name": "stdout",
          "text": [
            "[0.07762387 0.025719   0.09191043 0.02225682 0.203615   0.03308527\n",
            " 0.01451071 0.01729245 0.02192728 0.02554238 0.02904571 0.08555051\n",
            " 0.01969336 0.0086958  0.24074782 0.01644899 0.06128053 0.00505406\n",
            " 0.        ]\n"
          ]
        }
      ]
    },
    {
      "cell_type": "code",
      "source": [
        "sorted_index_array = np.argsort(model.feature_importances_)\n",
        "print (sorted_index_array)"
      ],
      "metadata": {
        "colab": {
          "base_uri": "https://localhost:8080/"
        },
        "id": "n1eJ354-Orh2",
        "outputId": "07f27519-4285-4739-bd8f-003666f3fedd"
      },
      "execution_count": 25,
      "outputs": [
        {
          "output_type": "stream",
          "name": "stdout",
          "text": [
            "[18 17 13  6 15  7 12  8  3  9  1 10  5 16  0 11  2  4 14]\n"
          ]
        }
      ]
    },
    {
      "cell_type": "code",
      "source": [
        "Results = sorted_index_array[-5 : ]\n",
        "print(Results)\n",
        "new_columns = columns[Results]"
      ],
      "metadata": {
        "colab": {
          "base_uri": "https://localhost:8080/"
        },
        "id": "ypnE8PIMPROW",
        "outputId": "842917fa-185a-4d08-c73e-fe8a33fe8844"
      },
      "execution_count": 26,
      "outputs": [
        {
          "output_type": "stream",
          "name": "stdout",
          "text": [
            "[ 0 11  2  4 14]\n"
          ]
        }
      ]
    },
    {
      "cell_type": "markdown",
      "source": [
        "#### **The above are the position index numbers for the best 5 features by importance.**"
      ],
      "metadata": {
        "id": "lKtbZmKSpAHb"
      }
    },
    {
      "cell_type": "code",
      "source": [
        "print(new_columns)"
      ],
      "metadata": {
        "colab": {
          "base_uri": "https://localhost:8080/"
        },
        "id": "QQ4ZLW4jPRRN",
        "outputId": "d228fc87-ef9b-4529-c567-ef6b724b8332"
      },
      "execution_count": 28,
      "outputs": [
        {
          "output_type": "stream",
          "name": "stdout",
          "text": [
            "['(Crunchbase) Monthly Visits to Company Home Page (m)'\n",
            " '(Tracxn) Number of Twitter Followers (k)'\n",
            " '(Crunchbase) Number of Acquisitions'\n",
            " '(Crunchbase) Competitor Max Total Funding Amount ($m)' '(Tracxn) Score']\n"
          ]
        }
      ]
    },
    {
      "cell_type": "code",
      "source": [
        "X5 = X[:,Results]\n",
        "print(X5)"
      ],
      "metadata": {
        "colab": {
          "base_uri": "https://localhost:8080/"
        },
        "id": "6ZQPwTcVQel_",
        "outputId": "00c96b5b-ec96-4eca-c56b-d93526856645"
      },
      "execution_count": 29,
      "outputs": [
        {
          "output_type": "stream",
          "name": "stdout",
          "text": [
            "[[ 2.         10.          1.          0.         49.54160642]\n",
            " [ 5.          0.          1.         82.          9.20021045]\n",
            " [ 0.          0.          1.         98.         70.37783265]\n",
            " ...\n",
            " [ 0.          0.          1.         19.          9.        ]\n",
            " [ 0.          0.          1.         68.          9.        ]\n",
            " [ 0.          0.          1.         68.          9.20021045]]\n"
          ]
        }
      ]
    },
    {
      "cell_type": "code",
      "source": [
        "X5.shape"
      ],
      "metadata": {
        "colab": {
          "base_uri": "https://localhost:8080/"
        },
        "id": "NJpYUGWrQeoD",
        "outputId": "e9e57806-9ad5-4e4b-a145-163664475df6"
      },
      "execution_count": 30,
      "outputs": [
        {
          "output_type": "execute_result",
          "data": {
            "text/plain": [
              "(1297, 5)"
            ]
          },
          "metadata": {},
          "execution_count": 30
        }
      ]
    },
    {
      "cell_type": "markdown",
      "source": [
        "# **5.  The Five Selected Factors are the following:**\n",
        "\n",
        "1.   **(Crunchbase) Monthly Visits to Company Home Page (m)** \n",
        "\n",
        "      The number of web visits to the company website \n",
        "\n",
        "\n",
        "2.   **(Crunchbase) Number of Acquisitions**\n",
        "\n",
        "      Done by the company in its entire history \n",
        "\n",
        "\n",
        "3.   **(Crunchbase) Competitor Max Total Funding Amount ($m)** \n",
        "\n",
        "      For example, if there are 3 competitors raised $10m, $20m, $30m total, \n",
        "      this field will be $30m\n",
        "\n",
        "4.   **(Tracxn) Number of Twitter Followers (k)**\n",
        "\n",
        "5.   **(Tracxn) Score**\n",
        "\n",
        "     Calculated by a data vendor (Tracxn) that indicates how well a company is growing\n",
        "\n",
        "\n",
        "**(1) Is a demand factor, and competition variables are (2) and (3).**  \n",
        "\n",
        "**Separatly, sentiment is (4), and (5) is an internal company metric.** "
      ],
      "metadata": {
        "id": "dQlQz7vMoTWh"
      }
    },
    {
      "cell_type": "markdown",
      "source": [
        "# **6. Running the XGBoost Model**"
      ],
      "metadata": {
        "id": "isR3kHNLo7vP"
      }
    },
    {
      "cell_type": "code",
      "source": [
        "# fitting the model with the selected 5 factors\n",
        "model = XGBClassifier()\n",
        "model.fit(X5, Y)"
      ],
      "metadata": {
        "colab": {
          "base_uri": "https://localhost:8080/"
        },
        "id": "46t6MgMNAypI",
        "outputId": "f3abba08-148d-402f-d113-83bb7894fb1b"
      },
      "execution_count": 31,
      "outputs": [
        {
          "output_type": "execute_result",
          "data": {
            "text/plain": [
              "XGBClassifier()"
            ]
          },
          "metadata": {},
          "execution_count": 31
        }
      ]
    },
    {
      "cell_type": "code",
      "source": [
        "from sklearn.model_selection import train_test_split\n",
        "\n",
        "X_train, X_test, Y_train, Y_test = train_test_split(X5, Y, test_size=0.2, random_state=42)"
      ],
      "metadata": {
        "id": "5q-4_DW1Sz4W"
      },
      "execution_count": 34,
      "outputs": []
    },
    {
      "cell_type": "markdown",
      "source": [
        "#### **20% of the dataset is allocated for testing to validate the model and 80% for training to fit the model.**"
      ],
      "metadata": {
        "id": "LCXKJamppsJc"
      }
    },
    {
      "cell_type": "code",
      "source": [
        "model = XGBClassifier()\n",
        "model.fit(X_train, Y_train)\n",
        "\n",
        "predictions = model.predict(X_test)\n",
        "predictions_proba = model.predict_proba(X_test)"
      ],
      "metadata": {
        "id": "SwRefmE9TnDY"
      },
      "execution_count": 35,
      "outputs": []
    },
    {
      "cell_type": "markdown",
      "source": [
        "# **7.  Validating the Results of the XGBoost Model**"
      ],
      "metadata": {
        "id": "ztRxL6TitgFS"
      }
    },
    {
      "cell_type": "code",
      "source": [
        "from sklearn.metrics import f1_score\n",
        "from sklearn.metrics import accuracy_score\n",
        "\n",
        "accuracy = accuracy_score(Y_test, predictions)"
      ],
      "metadata": {
        "id": "cAhdqOZnUobY"
      },
      "execution_count": 36,
      "outputs": []
    },
    {
      "cell_type": "code",
      "source": [
        "print(accuracy)"
      ],
      "metadata": {
        "colab": {
          "base_uri": "https://localhost:8080/"
        },
        "id": "h0rgduEKVYBx",
        "outputId": "05a1fc7c-1937-4684-87bb-b6bb4ecc4efa"
      },
      "execution_count": 37,
      "outputs": [
        {
          "output_type": "stream",
          "name": "stdout",
          "text": [
            "0.9807692307692307\n"
          ]
        }
      ]
    },
    {
      "cell_type": "markdown",
      "source": [
        "#### **98% level of Accurracy is very good.**"
      ],
      "metadata": {
        "id": "MY8TR9-HqHOG"
      }
    },
    {
      "cell_type": "code",
      "source": [
        "f1 = f1_score(Y_test, predictions)\n",
        "print(f1)"
      ],
      "metadata": {
        "colab": {
          "base_uri": "https://localhost:8080/"
        },
        "id": "BsWpqQxBVaeK",
        "outputId": "8011aad5-455a-4824-9c83-441314b210e7"
      },
      "execution_count": null,
      "outputs": [
        {
          "output_type": "stream",
          "name": "stdout",
          "text": [
            "0.9572649572649573\n"
          ]
        }
      ]
    },
    {
      "cell_type": "markdown",
      "source": [
        "#### **95.7% f1 score is a model performance measure and it is also very good.**\n",
        "\n",
        "#### **f1 score is the harmonic mean of the precision and recall of the model.**\n",
        "\n",
        "#### **Sanity check below** "
      ],
      "metadata": {
        "id": "aYOGSyIxqR-1"
      }
    },
    {
      "cell_type": "code",
      "source": [
        "print(predictions)"
      ],
      "metadata": {
        "colab": {
          "base_uri": "https://localhost:8080/"
        },
        "id": "AXYkWTyTV36k",
        "outputId": "8b71e514-c9ae-4d50-9061-5011c78636fb"
      },
      "execution_count": 38,
      "outputs": [
        {
          "output_type": "stream",
          "name": "stdout",
          "text": [
            "[0 0 0 1 1 0 0 0 0 0 0 1 0 0 0 1 0 0 0 0 0 0 1 0 0 0 1 0 0 0 1 0 0 0 0 0 0\n",
            " 0 0 0 0 0 0 0 1 1 1 0 1 0 0 0 1 1 0 0 0 1 0 0 0 0 0 0 0 0 0 0 0 0 0 1 0 0\n",
            " 0 0 1 1 0 0 0 0 1 0 0 0 1 0 0 0 0 1 0 0 0 0 0 0 0 0 0 1 0 0 0 0 0 0 0 0 0\n",
            " 0 0 0 0 0 0 1 0 0 0 0 0 0 0 0 0 1 0 0 1 1 1 0 0 0 0 0 0 0 1 0 1 1 1 1 1 0\n",
            " 0 0 0 0 0 0 0 0 0 0 0 0 1 0 0 0 0 0 0 0 0 0 0 0 0 1 1 0 1 1 1 1 0 1 1 0 0\n",
            " 0 0 1 1 0 0 1 0 0 0 0 0 0 1 0 0 1 0 1 0 0 0 0 0 0 1 0 0 0 0 0 0 0 0 1 1 0\n",
            " 0 1 1 1 0 0 1 0 1 0 0 0 1 1 0 0 0 1 0 0 0 0 0 0 0 0 0 0 0 1 0 0 0 0 0 0 0\n",
            " 0]\n"
          ]
        }
      ]
    },
    {
      "cell_type": "code",
      "source": [
        "print(Y_test)"
      ],
      "metadata": {
        "colab": {
          "base_uri": "https://localhost:8080/"
        },
        "id": "dhqbmGhNV84M",
        "outputId": "97b3ae8d-2ac3-4e10-f04c-52798cf990fd"
      },
      "execution_count": 39,
      "outputs": [
        {
          "output_type": "stream",
          "name": "stdout",
          "text": [
            "[0 0 0 1 1 0 0 0 0 0 0 1 0 0 0 0 0 0 0 0 0 0 1 0 0 0 1 0 0 0 1 0 0 0 0 0 0\n",
            " 0 0 0 0 0 0 0 1 1 1 0 1 0 0 0 1 1 0 0 0 1 0 0 0 0 0 1 0 0 0 0 0 0 0 1 0 0\n",
            " 0 0 1 1 0 0 0 0 1 0 0 0 1 0 0 0 0 1 0 0 0 0 0 0 0 0 0 1 0 0 0 0 0 0 0 0 0\n",
            " 0 0 0 1 0 0 1 0 0 0 0 0 0 0 0 0 1 0 0 1 1 1 0 0 0 0 0 0 0 1 0 1 1 1 1 1 0\n",
            " 0 0 0 0 0 0 0 0 0 0 0 0 1 0 0 0 0 0 0 0 0 0 0 0 0 1 1 0 0 1 1 1 0 1 1 0 0\n",
            " 0 0 1 1 0 0 0 0 0 0 0 0 0 1 0 0 1 0 1 0 0 0 0 0 0 1 0 0 0 0 0 0 0 0 1 1 0\n",
            " 0 1 1 1 0 0 1 0 1 0 0 0 1 1 0 0 0 1 0 0 0 0 0 0 0 0 0 0 0 1 0 0 0 0 0 0 0\n",
            " 0]\n"
          ]
        }
      ]
    },
    {
      "cell_type": "markdown",
      "source": [
        "#### **Features are connecting in the above Valuation.**\n",
        "\n",
        "#### **Below, the Prediction Probability of not a unicorn with a less than one billion dollar valuation and a unicorn with one billion dollar valuation or more.**"
      ],
      "metadata": {
        "id": "dcsfMPy-YUwW"
      }
    },
    {
      "cell_type": "markdown",
      "source": [
        "Separately, below we create a left column with a valuation below 1 billion and a right column with a valuations above 1 billion as two probability distributions, unlike the zero and ones above."
      ],
      "metadata": {
        "id": "bdMWbMX4ZQ3d"
      }
    },
    {
      "cell_type": "code",
      "source": [
        "predictions_proba = predictions_proba[:,1]"
      ],
      "metadata": {
        "id": "HFCMZdaUZMLd"
      },
      "execution_count": 43,
      "outputs": []
    },
    {
      "cell_type": "code",
      "source": [
        "# 50 percentile median\n",
        "# standard deviation\n",
        "# arithmetic mean \n",
        "# maximum probability \n",
        "# minimum probability \n",
        "\n",
        "print (np.quantile(predictions_proba,0.5), '\\n',np.std(predictions_proba), \n",
        "       '\\n',np.mean(predictions_proba), '\\n',np.amax(predictions_proba), \n",
        "       '\\n',np.amin(predictions_proba))\n",
        "   "
      ],
      "metadata": {
        "colab": {
          "base_uri": "https://localhost:8080/"
        },
        "id": "_LdJKbTEZ70N",
        "outputId": "34577a1b-0074-4b58-e91e-8de777b4523a"
      },
      "execution_count": 58,
      "outputs": [
        {
          "output_type": "stream",
          "name": "stdout",
          "text": [
            "0.004915900062769651 \n",
            " 0.39501712 \n",
            " 0.2331309 \n",
            " 0.9988708 \n",
            " 0.00085004064\n"
          ]
        }
      ]
    },
    {
      "cell_type": "markdown",
      "source": [
        "#### **The majority of the two probability distributions shows the majority of the values are closer to zero, than one.**"
      ],
      "metadata": {
        "id": "Pjrnuytd1Yn0"
      }
    },
    {
      "cell_type": "code",
      "source": [
        "plt.plot(predictions_proba)"
      ],
      "metadata": {
        "colab": {
          "base_uri": "https://localhost:8080/",
          "height": 283
        },
        "id": "-q-MDLodbeKx",
        "outputId": "100d40de-ec2f-4538-e1bf-f19ad5be780a"
      },
      "execution_count": 59,
      "outputs": [
        {
          "output_type": "execute_result",
          "data": {
            "text/plain": [
              "[<matplotlib.lines.Line2D at 0x7f4998a1f110>]"
            ]
          },
          "metadata": {},
          "execution_count": 59
        },
        {
          "output_type": "display_data",
          "data": {
            "text/plain": [
              "<Figure size 432x288 with 1 Axes>"
            ],
            "image/png": "[encoded data removed]"
          },
          "metadata": {
            "needs_background": "light"
          }
        }
      ]
    },
    {
      "cell_type": "code",
      "source": [
        "plt.hist(predictions_proba, bins=25)"
      ],
      "metadata": {
        "colab": {
          "base_uri": "https://localhost:8080/",
          "height": 466
        },
        "id": "yZpTVBY1birv",
        "outputId": "4a53c305-c31d-4720-d7ff-8e9e960ebb90"
      },
      "execution_count": 60,
      "outputs": [
        {
          "output_type": "execute_result",
          "data": {
            "text/plain": [
              "(array([175.,  11.,   6.,   1.,   1.,   1.,   1.,   1.,   1.,   0.,   2.,\n",
              "          0.,   1.,   1.,   0.,   0.,   1.,   2.,   1.,   1.,   0.,   2.,\n",
              "          2.,   5.,  44.]),\n",
              " array([8.5004064e-04, 4.0770870e-02, 8.0691703e-02, 1.2061253e-01,\n",
              "        1.6053335e-01, 2.0045419e-01, 2.4037503e-01, 2.8029585e-01,\n",
              "        3.2021669e-01, 3.6013752e-01, 4.0005833e-01, 4.3997917e-01,\n",
              "        4.7990000e-01, 5.1982081e-01, 5.5974168e-01, 5.9966248e-01,\n",
              "        6.3958335e-01, 6.7950416e-01, 7.1942496e-01, 7.5934583e-01,\n",
              "        7.9926664e-01, 8.3918744e-01, 8.7910831e-01, 9.1902912e-01,\n",
              "        9.5894998e-01, 9.9887079e-01], dtype=float32),\n",
              " <a list of 25 Patch objects>)"
            ]
          },
          "metadata": {},
          "execution_count": 60
        },
        {
          "output_type": "display_data",
          "data": {
            "text/plain": [
              "<Figure size 432x288 with 1 Axes>"
            ],
            "image/png": "[encoded data removed]"
          },
          "metadata": {
            "needs_background": "light"
          }
        }
      ]
    },
    {
      "cell_type": "markdown",
      "source": [
        "***Model has high confidence as the near zero bar above is able to capture companies that are not one billion in valuation.***  \n",
        "\n",
        "\n",
        "***Separately, if the company has a one billion valuation or more, then XGBoost Classifer trains effectively and has high confidence as the smaller bar to the right is close to one.***\n",
        "\n",
        "\n",
        "***Moreover, the absence of bars above that are in between zero and one shows it generalizes well.  This is rare with financial data as it common to have bars in between zero and one, i.e., in the middle causing validation concerns of the model.***  \n",
        "\n",
        "\n",
        "***Below is the Confusion Matrix to focus on True and False positives.***"
      ],
      "metadata": {
        "id": "zfIX6CWWcPRJ"
      }
    },
    {
      "cell_type": "code",
      "source": [
        "from sklearn.metrics import confusion_matrix, ConfusionMatrixDisplay\n",
        "\n",
        "cm = confusion_matrix(Y_test, predictions, labels=model.classes_)\n",
        "disp = ConfusionMatrixDisplay(confusion_matrix=cm, display_labels=model.classes_)\n",
        "disp.plot()\n",
        "plt.show()"
      ],
      "metadata": {
        "colab": {
          "base_uri": "https://localhost:8080/",
          "height": 279
        },
        "id": "w9TFUxDWdXlt",
        "outputId": "4bb5fe89-97d6-41fe-fdde-e70b8b3719ab"
      },
      "execution_count": null,
      "outputs": [
        {
          "output_type": "display_data",
          "data": {
            "text/plain": [
              "<Figure size 432x288 with 2 Axes>"
            ],
            "image/png": "[encoded data removed]"
          },
          "metadata": {
            "needs_background": "light"
          }
        }
      ]
    },
    {
      "cell_type": "code",
      "source": [
        "len(predictions)"
      ],
      "metadata": {
        "colab": {
          "base_uri": "https://localhost:8080/"
        },
        "id": "FIHUIIi1gLpZ",
        "outputId": "3e5ef9f8-dcd9-4d65-f314-3b21875b25c1"
      },
      "execution_count": null,
      "outputs": [
        {
          "output_type": "execute_result",
          "data": {
            "text/plain": [
              "260"
            ]
          },
          "metadata": {},
          "execution_count": 117
        }
      ]
    },
    {
      "cell_type": "markdown",
      "source": [
        "**Only misses 3 times as a false positive Type I error out of 56 is very good.**\n",
        "\n",
        "**There are 2 false negative Type II errors that failed to confrim it is true from the 199.**\n",
        "\n",
        "**There are 5 companies of the 260 there were incorrectly assessed.**"
      ],
      "metadata": {
        "id": "4FeEt-rFfgGF"
      }
    },
    {
      "cell_type": "markdown",
      "source": [
        "# **End of Case Study by John Foxworthy**\n",
        "\n",
        "#### **There is little room for improvement, given its very high accuracy and strong validation metrics. The only constraints are the data quality of missing data, n.a., etc.**\n",
        "\n",
        "#### **XGBoost is highly learnable, i.e., iterative estimation after feature importance has been fitted to help run the model, which is helpful for class imbalance data characteristics reflecting Start-Ups' business nature.**\n"
      ],
      "metadata": {
        "id": "VGqnBk3QvvpI"
      }
    },
    {
      "cell_type": "code",
      "source": [],
      "metadata": {
        "id": "ufe3insSv0qJ"
      },
      "execution_count": null,
      "outputs": []
    }
  ]
}